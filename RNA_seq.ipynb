{
  "nbformat": 4,
  "nbformat_minor": 0,
  "metadata": {
    "colab": {
      "provenance": [],
      "collapsed_sections": [
        "nG9yEcd7CVHp"
      ],
      "authorship_tag": "ABX9TyMFd9cLKwz5mcjqy5n7LZPZ",
      "include_colab_link": true
    },
    "kernelspec": {
      "name": "python3",
      "display_name": "Python 3"
    },
    "language_info": {
      "name": "python"
    }
  },
  "cells": [
    {
      "cell_type": "markdown",
      "metadata": {
        "id": "view-in-github",
        "colab_type": "text"
      },
      "source": [
        "<a href=\"https://colab.research.google.com/github/akrysm/rnaseq/blob/main/RNA_seq.ipynb\" target=\"_parent\"><img src=\"https://colab.research.google.com/assets/colab-badge.svg\" alt=\"Open In Colab\"/></a>"
      ]
    },
    {
      "cell_type": "markdown",
      "source": [
        "#準備(GoogleDrive, インストール, ディレクトリ・フォルダ設定, コンテンツ確認)"
      ],
      "metadata": {
        "id": "IbpgrPyuCf15"
      }
    },
    {
      "cell_type": "code",
      "execution_count": null,
      "metadata": {
        "colab": {
          "base_uri": "https://localhost:8080/"
        },
        "cellView": "form",
        "id": "EMSBU2lYgzcB",
        "outputId": "99c53c63-0c97-48ea-958a-563adc36b5b0"
      },
      "outputs": [
        {
          "output_type": "stream",
          "name": "stdout",
          "text": [
            "Mounted at /content/drive\n"
          ]
        }
      ],
      "source": [
        "#@title Google Driveをマウント\n",
        "from google.colab import drive\n",
        "drive.mount('/content/drive')"
      ]
    },
    {
      "cell_type": "code",
      "source": [
        "#@title インストール\n",
        "import gzip\n",
        "import locale\n",
        "import os\n",
        "import shutil\n",
        "import subprocess\n",
        "import time\n",
        "\n",
        "!apt-get -qq install hisat2\n",
        "!apt-get -qq install samtools\n",
        "!apt-get -qq install subread\n",
        "!apt-get -qq install tree\n",
        "os.environ['PATH'] += \":/usr/local/bin\"\n",
        "!hisat2 --version\n",
        "!samtools --version\n",
        "!subread --version\n",
        "!tree --version"
      ],
      "metadata": {
        "id": "0dlHbUxwoadZ",
        "outputId": "ceadab23-5e4e-495b-b403-963c04ddc6aa",
        "colab": {
          "base_uri": "https://localhost:8080/"
        }
      },
      "execution_count": null,
      "outputs": [
        {
          "output_type": "stream",
          "name": "stdout",
          "text": [
            "Selecting previously unselected package libhtscodecs2:amd64.\n",
            "(Reading database ... 121753 files and directories currently installed.)\n",
            "Preparing to unpack .../0-libhtscodecs2_1.1.1-3_amd64.deb ...\n",
            "Unpacking libhtscodecs2:amd64 (1.1.1-3) ...\n",
            "Selecting previously unselected package libhts3:amd64.\n",
            "Preparing to unpack .../1-libhts3_1.13+ds-2build1_amd64.deb ...\n",
            "Unpacking libhts3:amd64 (1.13+ds-2build1) ...\n",
            "Selecting previously unselected package bcftools.\n",
            "Preparing to unpack .../2-bcftools_1.13-1_amd64.deb ...\n",
            "Unpacking bcftools (1.13-1) ...\n",
            "Selecting previously unselected package hisat2.\n",
            "Preparing to unpack .../3-hisat2_2.2.1-3_amd64.deb ...\n",
            "Unpacking hisat2 (2.2.1-3) ...\n",
            "Selecting previously unselected package python3-hisat2.\n",
            "Preparing to unpack .../4-python3-hisat2_2.2.1-3_all.deb ...\n",
            "Unpacking python3-hisat2 (2.2.1-3) ...\n",
            "Selecting previously unselected package samtools.\n",
            "Preparing to unpack .../5-samtools_1.13-4_amd64.deb ...\n",
            "Unpacking samtools (1.13-4) ...\n",
            "Setting up libhtscodecs2:amd64 (1.1.1-3) ...\n",
            "Setting up libhts3:amd64 (1.13+ds-2build1) ...\n",
            "Setting up bcftools (1.13-1) ...\n",
            "Setting up samtools (1.13-4) ...\n",
            "Setting up hisat2 (2.2.1-3) ...\n",
            "Setting up python3-hisat2 (2.2.1-3) ...\n",
            "Processing triggers for man-db (2.10.2-1) ...\n",
            "Processing triggers for libc-bin (2.35-0ubuntu3.4) ...\n",
            "/sbin/ldconfig.real: /usr/local/lib/libtbbmalloc_proxy.so.2 is not a symbolic link\n",
            "\n",
            "/sbin/ldconfig.real: /usr/local/lib/libtbbbind_2_0.so.3 is not a symbolic link\n",
            "\n",
            "/sbin/ldconfig.real: /usr/local/lib/libtbbbind_2_5.so.3 is not a symbolic link\n",
            "\n",
            "/sbin/ldconfig.real: /usr/local/lib/libtbbbind.so.3 is not a symbolic link\n",
            "\n",
            "/sbin/ldconfig.real: /usr/local/lib/libtbbmalloc.so.2 is not a symbolic link\n",
            "\n",
            "/sbin/ldconfig.real: /usr/local/lib/libtbb.so.12 is not a symbolic link\n",
            "\n",
            "Selecting previously unselected package subread.\n",
            "(Reading database ... 121953 files and directories currently installed.)\n",
            "Preparing to unpack .../subread_2.0.3+dfsg-1_amd64.deb ...\n",
            "Unpacking subread (2.0.3+dfsg-1) ...\n",
            "Setting up subread (2.0.3+dfsg-1) ...\n",
            "Processing triggers for man-db (2.10.2-1) ...\n"
          ]
        }
      ]
    },
    {
      "cell_type": "code",
      "source": [
        "#@title フォルダ作成: MyDrive以下に [RNAseq] を作成\n",
        "import os\n",
        "\n",
        "# working directory path\n",
        "DIR_WORK = \"/content/drive/MyDrive\" #@param [\"/content/drive/MyDrive\", \"option\"] {allow-input: true}\n",
        "\n",
        "# %cd {DIR_RAWDATA}  # linux\n",
        "os.chdir(DIR_WORK)\n",
        "print(\"現在のディレクトリ:\", os.getcwd())\n",
        "\n",
        "# folder name\n",
        "directories = [\"RNAseq\"]\n",
        "\n",
        "# create folder function\n",
        "def check_and_create_directory(directory):\n",
        "    if not os.path.exists(directory):\n",
        "        print(f\"Creating directory: {directory}\")\n",
        "        os.makedirs(directory)\n",
        "    else:\n",
        "        print(f\"Directory already exists: {directory}. Nothing to do.\")\n",
        "\n",
        "# create folder\n",
        "for directory in directories:\n",
        "    check_and_create_directory(directory)"
      ],
      "metadata": {
        "cellView": "form",
        "id": "F9ABC0DaY-FF"
      },
      "execution_count": null,
      "outputs": []
    },
    {
      "cell_type": "code",
      "source": [
        "#@title フォルダ作成: RNAseq以下に [bamfiles, downloads, featureCounts, multiqc, rawdata, trimmed] を作成\n",
        "import os\n",
        "\n",
        "# working directory path\n",
        "DIR_WORK = \"/content/drive/MyDrive/RNAseq\" #@param [\"/content\", \"/content/drive/MyDrive/RNAseq\", \"/content/drive/MyDrive/RNAseq/rawdata\", \"option\"] {allow-input: true}\n",
        "\n",
        "# %cd {DIR_RAWDATA}  # linux\n",
        "os.chdir(DIR_WORK)\n",
        "print(\"現在のディレクトリ:\", os.getcwd())\n",
        "\n",
        "# folder name\n",
        "directories = [\"bamfiles\", \"downloads\", \"featureCounts\", \"multiqc\", \"rawdata\", \"trimmed\"]\n",
        "\n",
        "# create folder function\n",
        "def check_and_create_directory(directory):\n",
        "    if not os.path.exists(directory):\n",
        "        print(f\"Creating directory: {directory}\")\n",
        "        os.makedirs(directory)\n",
        "    else:\n",
        "        print(f\"Directory already exists: {directory}. Nothing to do.\")\n",
        "\n",
        "# create folder\n",
        "for directory in directories:\n",
        "    check_and_create_directory(directory)"
      ],
      "metadata": {
        "id": "f3Q6XfOhkH4c",
        "cellView": "form"
      },
      "execution_count": null,
      "outputs": []
    },
    {
      "cell_type": "markdown",
      "source": [
        "###シーケンスリードデータ(.fastq.gz)とサンプルリストファイル(sample_list.txt)の準備\n",
        "\n",
        "/content/drive/MyDrive/RNAseq/rawdata に  \n",
        "\n",
        "\n",
        "* シーケンスリードデータ(.fastq.gz)\n",
        "* サンプルリストファイル(sample_list.txt)  \n",
        "\n",
        "\n",
        "を格納しておく。  \n",
        "サンプルリストファイルは以下の通り。\n",
        "\n",
        "\n",
        "| No. | ID  | Info |\n",
        "|-----|-----|------|\n",
        "| 1   | ABC | ...  |\n",
        "| 2   | DEF | ...  |\n",
        "| 3   | GHI | ...  |\n",
        "| 4   | JKL | ...  |\n",
        "\n",
        "\n"
      ],
      "metadata": {
        "id": "hg6dQvrEZ_Nz"
      }
    },
    {
      "cell_type": "code",
      "source": [
        "#@title コンテンツ表示\n",
        "import os\n",
        "\n",
        "# ワーキングディレクトリ\n",
        "DIR_WORK = \"/content/drive/MyDrive/RNAseq\" #@param [\"/content\", \"/content/drive/MyDrive/RNAseq\", \"/content/drive/MyDrive/RNAseq/rawdata\", \"option\"] {allow-input: true}\n",
        "\n",
        "# ワーキングディレクトリの移動\n",
        "os.chdir(DIR_WORK)\n",
        "print(\"現在のディレクトリ:\", os.getcwd())\n",
        "\n",
        "# def print_directory_tree(directory, indent=''):\n",
        "#     print(indent + os.path.basename(directory) + '/')\n",
        "#     indent += '    '\n",
        "#     for item in os.listdir(directory):\n",
        "#         item_path = os.path.join(directory, item)\n",
        "#         if os.path.isdir(item_path):\n",
        "#             print_directory_tree(item_path, indent)\n",
        "#         else:\n",
        "#             print(indent + item)\n",
        "\n",
        "# # 現在のワーキングディレクトリのツリー形式を表示\n",
        "# print_directory_tree(os.getcwd())\n",
        "\n",
        "\n",
        "\n",
        "## ----------シェルコマンドをGoogle Colaboratoryで実行----------\n",
        "# !apt-get -qq install tree # tree表示のためのツールをインストール\n",
        "!tree {DIR_WORK}\n",
        "# !tree {DIR_RAWDATA}\n",
        "## -------------------------------------------------------"
      ],
      "metadata": {
        "id": "GOcQq7mzizd0",
        "cellView": "form"
      },
      "execution_count": null,
      "outputs": []
    },
    {
      "cell_type": "code",
      "source": [
        "#@title サンプルリストの確認\n",
        "import os\n",
        "import pandas as pd\n",
        "\n",
        "# ワーキングディレクトリとファイルパス\n",
        "DIR_WORK = \"/content/drive/MyDrive/RNAseq/rawdata\"  #@param [\"/content/drive/MyDrive/RNAseq/rawdata\", \"option1\", \"option2\"] {allow-input: true}\n",
        "sample_list_file = \"sample_list_original.txt\"  #@param [\"sample_list.txt\", \"sample_list_original.txt\", \"option1\"] {allow-input: true}\n",
        "\n",
        "# ワーキングディレクトリへ移動\n",
        "os.chdir(DIR_WORK)\n",
        "\n",
        "# データフレームに読み込む\n",
        "df = pd.read_csv(sample_list_file, delimiter='\\t')  # デリミターはタブに設定していますが、必要に応じて変更してください\n",
        "\n",
        "# 最初の数行を表示\n",
        "# print(df.head())\n",
        "display(df.head().style)\n",
        "\n",
        "# with open(sample_list_file, 'r') as file:\n",
        "#     for i in range(5):  # 最初の5行を表示\n",
        "#         line = file.readline()\n",
        "#         print(line)"
      ],
      "metadata": {
        "id": "GA1voWpmnKr6",
        "colab": {
          "base_uri": "https://localhost:8080/",
          "height": 206
        },
        "cellView": "form",
        "outputId": "1f7c212d-6569-4f2c-b4e1-d334c3d4ce7a"
      },
      "execution_count": null,
      "outputs": [
        {
          "output_type": "display_data",
          "data": {
            "text/plain": [
              "<pandas.io.formats.style.Styler at 0x783e8bc29ea0>"
            ],
            "text/html": [
              "<style type=\"text/css\">\n",
              "</style>\n",
              "<table id=\"T_bc8bb\" class=\"dataframe\">\n",
              "  <thead>\n",
              "    <tr>\n",
              "      <th class=\"blank level0\" >&nbsp;</th>\n",
              "      <th id=\"T_bc8bb_level0_col0\" class=\"col_heading level0 col0\" >No</th>\n",
              "      <th id=\"T_bc8bb_level0_col1\" class=\"col_heading level0 col1\" >SampleID</th>\n",
              "      <th id=\"T_bc8bb_level0_col2\" class=\"col_heading level0 col2\" >Analyte</th>\n",
              "      <th id=\"T_bc8bb_level0_col3\" class=\"col_heading level0 col3\" >Group</th>\n",
              "      <th id=\"T_bc8bb_level0_col4\" class=\"col_heading level0 col4\" >Drug</th>\n",
              "      <th id=\"T_bc8bb_level0_col5\" class=\"col_heading level0 col5\" >Drug1</th>\n",
              "      <th id=\"T_bc8bb_level0_col6\" class=\"col_heading level0 col6\" >Drug2</th>\n",
              "    </tr>\n",
              "  </thead>\n",
              "  <tbody>\n",
              "    <tr>\n",
              "      <th id=\"T_bc8bb_level0_row0\" class=\"row_heading level0 row0\" >0</th>\n",
              "      <td id=\"T_bc8bb_row0_col0\" class=\"data row0 col0\" >1</td>\n",
              "      <td id=\"T_bc8bb_row0_col1\" class=\"data row0 col1\" >HIP_PC10</td>\n",
              "      <td id=\"T_bc8bb_row0_col2\" class=\"data row0 col2\" >HIP</td>\n",
              "      <td id=\"T_bc8bb_row0_col3\" class=\"data row0 col3\" >PC10</td>\n",
              "      <td id=\"T_bc8bb_row0_col4\" class=\"data row0 col4\" >PCP_CLZ10</td>\n",
              "      <td id=\"T_bc8bb_row0_col5\" class=\"data row0 col5\" >PCP</td>\n",
              "      <td id=\"T_bc8bb_row0_col6\" class=\"data row0 col6\" >CLZ10</td>\n",
              "    </tr>\n",
              "    <tr>\n",
              "      <th id=\"T_bc8bb_level0_row1\" class=\"row_heading level0 row1\" >1</th>\n",
              "      <td id=\"T_bc8bb_row1_col0\" class=\"data row1 col0\" >2</td>\n",
              "      <td id=\"T_bc8bb_row1_col1\" class=\"data row1 col1\" >HIP_PC30</td>\n",
              "      <td id=\"T_bc8bb_row1_col2\" class=\"data row1 col2\" >HIP</td>\n",
              "      <td id=\"T_bc8bb_row1_col3\" class=\"data row1 col3\" >PC30</td>\n",
              "      <td id=\"T_bc8bb_row1_col4\" class=\"data row1 col4\" >PCP_CLZ30</td>\n",
              "      <td id=\"T_bc8bb_row1_col5\" class=\"data row1 col5\" >PCP</td>\n",
              "      <td id=\"T_bc8bb_row1_col6\" class=\"data row1 col6\" >CLZ30</td>\n",
              "    </tr>\n",
              "    <tr>\n",
              "      <th id=\"T_bc8bb_level0_row2\" class=\"row_heading level0 row2\" >2</th>\n",
              "      <td id=\"T_bc8bb_row2_col0\" class=\"data row2 col0\" >3</td>\n",
              "      <td id=\"T_bc8bb_row2_col1\" class=\"data row2 col1\" >HIP_PV</td>\n",
              "      <td id=\"T_bc8bb_row2_col2\" class=\"data row2 col2\" >HIP</td>\n",
              "      <td id=\"T_bc8bb_row2_col3\" class=\"data row2 col3\" >PV</td>\n",
              "      <td id=\"T_bc8bb_row2_col4\" class=\"data row2 col4\" >PCP_VEH</td>\n",
              "      <td id=\"T_bc8bb_row2_col5\" class=\"data row2 col5\" >PCP</td>\n",
              "      <td id=\"T_bc8bb_row2_col6\" class=\"data row2 col6\" >VEH</td>\n",
              "    </tr>\n",
              "    <tr>\n",
              "      <th id=\"T_bc8bb_level0_row3\" class=\"row_heading level0 row3\" >3</th>\n",
              "      <td id=\"T_bc8bb_row3_col0\" class=\"data row3 col0\" >4</td>\n",
              "      <td id=\"T_bc8bb_row3_col1\" class=\"data row3 col1\" >HIP_SC10</td>\n",
              "      <td id=\"T_bc8bb_row3_col2\" class=\"data row3 col2\" >HIP</td>\n",
              "      <td id=\"T_bc8bb_row3_col3\" class=\"data row3 col3\" >SC10</td>\n",
              "      <td id=\"T_bc8bb_row3_col4\" class=\"data row3 col4\" >SAL_CLZ10</td>\n",
              "      <td id=\"T_bc8bb_row3_col5\" class=\"data row3 col5\" >SAL</td>\n",
              "      <td id=\"T_bc8bb_row3_col6\" class=\"data row3 col6\" >CLZ10</td>\n",
              "    </tr>\n",
              "    <tr>\n",
              "      <th id=\"T_bc8bb_level0_row4\" class=\"row_heading level0 row4\" >4</th>\n",
              "      <td id=\"T_bc8bb_row4_col0\" class=\"data row4 col0\" >5</td>\n",
              "      <td id=\"T_bc8bb_row4_col1\" class=\"data row4 col1\" >HIP_SC30</td>\n",
              "      <td id=\"T_bc8bb_row4_col2\" class=\"data row4 col2\" >HIP</td>\n",
              "      <td id=\"T_bc8bb_row4_col3\" class=\"data row4 col3\" >SC30</td>\n",
              "      <td id=\"T_bc8bb_row4_col4\" class=\"data row4 col4\" >SAL_CLZ30</td>\n",
              "      <td id=\"T_bc8bb_row4_col5\" class=\"data row4 col5\" >SAL</td>\n",
              "      <td id=\"T_bc8bb_row4_col6\" class=\"data row4 col6\" >CLZ30</td>\n",
              "    </tr>\n",
              "  </tbody>\n",
              "</table>\n"
            ]
          },
          "metadata": {}
        }
      ]
    },
    {
      "cell_type": "code",
      "source": [],
      "metadata": {
        "id": "X8KWWmXZHtwE"
      },
      "execution_count": null,
      "outputs": []
    },
    {
      "cell_type": "markdown",
      "source": [
        "#トリミング(Trimmomatic)"
      ],
      "metadata": {
        "id": "WUuoz6xtCOuT"
      }
    },
    {
      "cell_type": "code",
      "source": [
        "#@title ダウンロードトリミングツール: Trimmomatic\n",
        "import os\n",
        "import subprocess\n",
        "\n",
        "# ディレクトリ\n",
        "DIR_WORK = \"/content/drive/MyDrive/RNAseq/rawdata\"  #@param [\"/content/drive/MyDrive/RNAseq/rawdata\", \"option1\", \"option2\"] {allow-input: true}\n",
        "DIR_DOWNLOADS = \"../downloads\"  #@param [\"../downloads\", \"/content/drive/MyDrive/RNAseq/downloads\", \"option1\"] {allow-input: true}\n",
        "DIR_TRIMMOMATIC = os.path.join(DIR_DOWNLOADS, \"Trimmomatic-0.39\")\n",
        "\n",
        "# ワーキングディレクトリへ移動\n",
        "os.chdir(DIR_WORK)\n",
        "\n",
        "# すでにTrimmomaticが存在するかどうかをチェック\n",
        "if not os.path.exists(DIR_TRIMMOMATIC):\n",
        "    # TrimmomaticのZIPファイルをダウンロード\n",
        "    trimmomatic_zip_url = \"http://www.usadellab.org/cms/uploads/supplementary/Trimmomatic/Trimmomatic-0.39.zip\"  #@param [\"http://www.usadellab.org/cms/uploads/supplementary/Trimmomatic/Trimmomatic-0.39.zip\", \"option1\", \"option2\"] {allow-input: true}\n",
        "    trimmomatic_zip_file = os.path.basename(trimmomatic_zip_url)\n",
        "    subprocess.run([\"wget\", trimmomatic_zip_url], cwd=DIR_DOWNLOADS)\n",
        "\n",
        "    # TrimmomaticのZIPファイルを展開\n",
        "    subprocess.run([\"unzip\", trimmomatic_zip_file], cwd=DIR_DOWNLOADS)\n",
        "else:\n",
        "    print(\"Trimmomaticはすでに展開されています。\")\n",
        "\n",
        "\n",
        "## ----------シェルコマンドをPythonコードで実行----------\n",
        "# Trimmomaticをダウンロードして展開する\n",
        "# %cd /content/drive/MyDrive/RNAseq/downloads\n",
        "# !wget http://www.usadellab.org/cms/uploads/supplementary/Trimmomatic/Trimmomatic-0.39.zip\n",
        "# !unzip Trimmomatic-0.39.zip\n",
        "## -------------------------------------------------------\n"
      ],
      "metadata": {
        "id": "Oe7abMyFnzFe"
      },
      "execution_count": null,
      "outputs": []
    },
    {
      "cell_type": "code",
      "source": [
        "#@title トリミング（未実施サンプルデータのみ処理）: Trimmomatic\n",
        "import os\n",
        "import subprocess\n",
        "import time\n",
        "\n",
        "# ワーキングディレクトリとファイルパス\n",
        "DIR_WORK = \"/content/drive/MyDrive/RNAseq/rawdata\"  #@param [\"/content/drive/MyDrive/RNAseq/rawdata\", \"option1\", \"option2\"] {allow-input: true}\n",
        "sample_list_file = \"sample_list_original.txt\"  #@param [\"sample_list.txt\", \"sample_list_original.txt\", \"option1\"] {allow-input: true}\n",
        "java_file = \"../downloads/Trimmomatic-0.39/trimmomatic-0.39.jar\"  #@param [\"../downloads/Trimmomatic-0.39/adapters/TruSeq2-PE.fa:2:30:10\", \"option1\", \"option2\"] {allow-input: true}\n",
        "illuminaclip_file = \"../downloads/Trimmomatic-0.39/adapters/TruSeq2-PE.fa:2:30:10\"  #@param [\"../downloads/Trimmomatic-0.39/adapters/TruSeq2-PE.fa:2:30:10\", \"option1\", \"option2\"] {allow-input: true}\n",
        "\n",
        "# ワーキングディレクトリへ移動\n",
        "os.chdir(DIR_WORK)\n",
        "\n",
        "# サンプルリストをファイルから読み取る\n",
        "with open(sample_list_file, \"r\") as f:\n",
        "    sample_list = f.read().splitlines()\n",
        "\n",
        "# サンプルリストをループで処理\n",
        "for sample_line in sample_list[1:]:  # 1行目をスキップして残りの行を処理\n",
        "    # サンプル名を分割して取得\n",
        "    sample_data = sample_line.strip().split(\"\\t\")\n",
        "    sample_number = sample_data[0]  # サンプル番号\n",
        "\n",
        "    # 出力ファイル名を検査してトリミング済みかどうかを確認\n",
        "    output_forward_paired = f\"../trimmed/paired_{sample_data[1]}_1.trim.fastq.gz\"\n",
        "    output_reverse_paired = f\"../trimmed/paired_{sample_data[1]}_2.trim.fastq.gz\"\n",
        "    if os.path.exists(output_forward_paired) and os.path.exists(output_reverse_paired):\n",
        "        print(f\"Sample No. {sample_number}, <{sample_data[1]}> has already been trimmed. Skipping...\")\n",
        "        continue\n",
        "\n",
        "    # 入力ファイルのフルパスを指定\n",
        "    input_forward = f\"{sample_data[1]}_1.fastq.gz\"\n",
        "    input_reverse = f\"{sample_data[1]}_2.fastq.gz\"\n",
        "    output_forward_paired = f\"../trimmed/paired_{sample_data[1]}_1.trim.fastq.gz\"\n",
        "    output_forward_unpaired = f\"../trimmed/unpaired_{sample_data[1]}_1.trim.fastq.gz\"\n",
        "    output_reverse_paired = f\"../trimmed/paired_{sample_data[1]}_2.trim.fastq.gz\"\n",
        "    output_reverse_unpaired = f\"../trimmed/unpaired_{sample_data[1]}_2.trim.fastq.gz\"\n",
        "\n",
        "    # ファイル名を出力して確認\n",
        "    print(f\"Sample No. {sample_number}, Forward Input File: {input_forward}, Reverse Input File: {input_reverse}\")\n",
        "    print(f\"Sample No. {sample_number}, Forward Output File: {output_forward_paired}, {output_forward_unpaired}, Reverse Output File: {output_reverse_paired}, {output_reverse_unpaired}\")\n",
        "\n",
        "    # 処理開始時間を記録\n",
        "    start_time = time.time()\n",
        "    print(f\"Processing started for sample {sample_data[1]} at {time.strftime('%Y-%m-%d %H:%M:%S', time.localtime(start_time))}\")\n",
        "\n",
        "    # コマンドを構築\n",
        "    trimmomatic_cmd = [\n",
        "        \"java\", \"-jar\", java_file, \"PE\", \"-phred33\",\n",
        "        input_forward, input_reverse,\n",
        "        output_forward_paired, output_forward_unpaired,\n",
        "        output_reverse_paired, output_reverse_unpaired,\n",
        "        f\"ILLUMINACLIP:{illuminaclip_file}\"\n",
        "    ]\n",
        "\n",
        "    # コマンド実行前のメッセージを表示\n",
        "    print(f\"Starting trimming for sample {sample_data[1]}...\")\n",
        "\n",
        "    # trimmomaticコマンドを実行\n",
        "    result = subprocess.run(trimmomatic_cmd, capture_output=True, text=True)\n",
        "\n",
        "    # 結果を表示\n",
        "    print(f\"Trimming for sample {sample_data[1]} finished with return code: {result.returncode}\")\n",
        "    if result.stdout:\n",
        "        print(result.stdout)\n",
        "    if result.stderr:\n",
        "        print(result.stderr)\n",
        "\n",
        "    # 処理終了時間を記録\n",
        "    end_time = time.time()\n",
        "\n",
        "    # 処理時間を計算して表示\n",
        "    processing_time = end_time - start_time\n",
        "    print(f\"Processing time for sample {sample_data[1]}: {processing_time} seconds\")\n",
        "\n",
        "    # 処理の区切りを示すメッセージを表示\n",
        "    print(\"------------------------------------------------------\")\n"
      ],
      "metadata": {
        "id": "nkthj2CgqAWM"
      },
      "execution_count": null,
      "outputs": []
    },
    {
      "cell_type": "code",
      "source": [],
      "metadata": {
        "id": "ksieIJ2HqAfP"
      },
      "execution_count": null,
      "outputs": []
    },
    {
      "cell_type": "markdown",
      "source": [
        "#マッピング(HISAT2)"
      ],
      "metadata": {
        "id": "I-MXP3MgCI8r"
      }
    },
    {
      "cell_type": "code",
      "source": [
        "#@title ゲノム配列情報（FNA）のダウンロード: HISAT2\n",
        "import gzip\n",
        "import os\n",
        "import shutil\n",
        "import subprocess\n",
        "\n",
        "# ワーキングディレクトリとファイルパス\n",
        "DIR_WORK = \"/content/drive/MyDrive/RNAseq/rawdata\"  #@param [\"/content/drive/MyDrive/RNAseq/rawdata\", \"option1\", \"option2\"] {allow-input: true}\n",
        "DIR_DOWNLOADS = \"../downloads\"  #@param [\"../downloads\", \"/content/drive/MyDrive/RNAseq/downloads\", \"option1\"] {allow-input: true}\n",
        "fna_file = \"GCF_000001635.27_GRCm39_genomic.fna\"  #@param [\"GCF_000001635.27_GRCm39_genomic.fna.gz\", \"option1\", \"option2\"] {allow-input: true}\n",
        "\n",
        "# ワーキングディレクトリへ移動\n",
        "os.chdir(DIR_WORK)\n",
        "\n",
        "# ファイルが存在するかチェック\n",
        "if not os.path.exists(os.path.join(DIR_DOWNLOADS, fna_file)):\n",
        "    # ダウンロード\n",
        "    fna_file_url = \"https://ftp.ncbi.nlm.nih.gov/genomes/all/GCF/000/001/635/GCF_000001635.27_GRCm39/GCF_000001635.27_GRCm39_genomic.fna.gz\"  #@param [\"https://ftp.ncbi.nlm.nih.gov/genomes/all/GCF/000/001/635/GCF_000001635.27_GRCm39/GCF_000001635.27_GRCm39_genomic.fna.gz\", \"option1\", \"option2\"] {allow-input: true}\n",
        "    subprocess.run([\"wget\", fna_file_url, \"-P\", DIR_DOWNLOADS])\n",
        "\n",
        "    # 解凍\n",
        "    fna_file_path = os.path.join(DIR_DOWNLOADS, fna_file + \".gz\")\n",
        "    output_file_path = os.path.join(DIR_DOWNLOADS, fna_file)\n",
        "    with gzip.open(fna_file_path, 'rb') as f_in:\n",
        "        with open(output_file_path, 'wb') as f_out:\n",
        "            shutil.copyfileobj(f_in, f_out)\n",
        "else:\n",
        "    print(\"ファイルがすでに存在します。\")\n"
      ],
      "metadata": {
        "colab": {
          "base_uri": "https://localhost:8080/"
        },
        "cellView": "form",
        "id": "g7YU1uV-l4vs",
        "outputId": "247a1c65-ba89-4a89-a993-e37cea9a45e8"
      },
      "execution_count": null,
      "outputs": [
        {
          "output_type": "stream",
          "name": "stdout",
          "text": [
            "ファイルがすでに存在します。\n"
          ]
        }
      ]
    },
    {
      "cell_type": "code",
      "source": [
        "#@title （インストール: HISAT2）\n",
        "# import os\n",
        "# !apt-get -qq install hisat2\n",
        "# !apt-get -qq install samtools\n",
        "# os.environ['PATH'] += \":/usr/local/bin\"\n",
        "# !hisat2 --version\n",
        "# !samtools --version"
      ],
      "metadata": {
        "cellView": "form",
        "id": "yol4zwJO4qJb"
      },
      "execution_count": null,
      "outputs": []
    },
    {
      "cell_type": "code",
      "source": [
        "#@title インデックスの作成: HISAT2\n",
        "import os\n",
        "import subprocess\n",
        "import time\n",
        "\n",
        "# ワーキングディレクトリとファイルパス\n",
        "DIR_WORK = \"/content/drive/MyDrive/RNAseq/rawdata\"  #@param [\"/content/drive/MyDrive/RNAseq/rawdata\", \"option1\", \"option2\"] {allow-input: true}\n",
        "genomic_fna = \"../downloads/GCF_000001635.27_GRCm39_genomic.fna\"  #@param [\"../downloads/GCF_000001635.27_GRCm39_genomic.fna\", \"option1\", \"option2\"] {allow-input: true}\n",
        "index_path = \"../downloads/GCF_000001635.27_GRCm39_genomic_index\"  #@param [\"../downloads/GCF_000001635.27_GRCm39_genomic_index\", \"option1\", \"option2\"] {allow-input: true}\n",
        "\n",
        "# ワーキングディレクトリへ移動\n",
        "os.chdir(DIR_WORK)\n",
        "\n",
        "# 処理開始時間を記録\n",
        "start_time = time.time()\n",
        "print(f\"Processing started at {time.strftime('%Y-%m-%d %H:%M:%S', time.localtime(start_time))}\")\n",
        "\n",
        "# インデックスファイルが存在するかチェック\n",
        "if not os.path.exists(index_path + \".1.ht2\"):\n",
        "    # インデックスを作成\n",
        "    print(\"Creating index...\")\n",
        "    subprocess.run([\"hisat2-build\", genomic_fna, index_path])\n",
        "    print(\"Index creation completed.\")\n",
        "else:\n",
        "    print(\"インデックスファイルはすでに存在します。\")\n",
        "\n",
        "# 処理終了時間を記録\n",
        "end_time = time.time()\n",
        "\n",
        "# 処理時間を計算して表示\n",
        "processing_time = end_time - start_time\n",
        "print(f\"Processing time: {processing_time} seconds.\")\n",
        "\n",
        "# 2h 5m 2s\n"
      ],
      "metadata": {
        "colab": {
          "base_uri": "https://localhost:8080/"
        },
        "id": "iQEmZfKBnTYu",
        "outputId": "d9634ec9-a7f9-4a4f-97ba-1dc250b1b65c",
        "cellView": "form"
      },
      "execution_count": null,
      "outputs": [
        {
          "output_type": "stream",
          "name": "stdout",
          "text": [
            "Creating index...\n",
            "Index creation completed.\n"
          ]
        }
      ]
    },
    {
      "cell_type": "code",
      "source": [
        "#@title マッピング（未実施サンプルデータのみ処理）: HISAT2\n",
        "import locale\n",
        "import os\n",
        "import subprocess\n",
        "import time\n",
        "\n",
        "# ワーキングディレクトリとファイルパス\n",
        "DIR_WORK = \"/content/drive/MyDrive/RNAseq/rawdata\"  #@param [\"/content/drive/MyDrive/RNAseq/rawdata\", \"option1\", \"option2\"] {allow-input: true}\n",
        "sample_list_file = \"sample_list_original.txt\"  #@param [\"sample_list.txt\", \"sample_list_original.txt\", \"option1\"] {allow-input: true}\n",
        "index_path = \"../downloads/GCF_000001635.27_GRCm39_genomic_index\"  #@param [\"../downloads/GCF_000001635.27_GRCm39_genomic_index\", \"option1\", \"option2\"] {allow-input: true}\n",
        "\n",
        "# ワーキングディレクトリへ移動\n",
        "os.chdir(DIR_WORK)\n",
        "\n",
        "# サンプルリストファイルからサンプルを取得し、HISAT2を実行\n",
        "with open(sample_list_file, \"r\") as f:\n",
        "    for line in f.readlines()[1:]:\n",
        "        sample = line.strip().split()[1]\n",
        "        print(f\"Processing sample: {sample}...\")\n",
        "        file1 = f\"../trimmed/paired_{sample}_1.trim.fastq.gz\"\n",
        "        file2 = f\"../trimmed/paired_{sample}_2.trim.fastq.gz\"\n",
        "        bam_file = f\"../bamfiles/{sample}_sorted.bam\"\n",
        "\n",
        "        # 処理開始時間を記録\n",
        "        start_time = time.time()\n",
        "        print(f\"Processing started for sample {sample} at {time.strftime('%Y-%m-%d %H:%M:%S', time.localtime(start_time))}\")\n",
        "\n",
        "        # すでに処理されたサンプルかどうかを確認\n",
        "        if os.path.exists(bam_file):\n",
        "            print(f\"Sample {sample} has already been processed. Skipping...\")\n",
        "            continue\n",
        "\n",
        "        # HISAT2を実行\n",
        "        hisat2_cmd = [\n",
        "            \"hisat2\", \"-p\", \"1\", \"-x\", index_path, \"-1\", file1, \"-2\", file2\n",
        "        ]\n",
        "        hisat2_proc = subprocess.Popen(hisat2_cmd, stdout=subprocess.PIPE)\n",
        "\n",
        "        # samtoolsを使ってバムファイルに変換\n",
        "        samtools_cmd = [\n",
        "            \"samtools\", \"sort\", \"-@ 1\", \"-\", \"-o\", bam_file\n",
        "        ]\n",
        "        samtools_proc = subprocess.Popen(samtools_cmd, stdin=hisat2_proc.stdout)\n",
        "        samtools_proc.communicate()\n",
        "\n",
        "        # バムファイルにインデックスを作成\n",
        "        subprocess.run([\"samtools\", \"index\", \"-@\", \"1\", bam_file])\n",
        "\n",
        "        # 処理終了時間を記録\n",
        "        end_time = time.time()\n",
        "\n",
        "        # 処理時間を計算して表示\n",
        "        processing_time = end_time - start_time\n",
        "        print(f\"Sample {sample} processing complete. Processing time: {processing_time} seconds.\")\n"
      ],
      "metadata": {
        "id": "zz7N4xpkurvj",
        "cellView": "form"
      },
      "execution_count": null,
      "outputs": []
    },
    {
      "cell_type": "code",
      "source": [],
      "metadata": {
        "id": "t_XQnpskdeqa"
      },
      "execution_count": null,
      "outputs": []
    },
    {
      "cell_type": "markdown",
      "source": [
        "#カウント(featureCount(subread))"
      ],
      "metadata": {
        "id": "Mtuypeo9B009"
      }
    },
    {
      "cell_type": "code",
      "source": [
        "#@title アノテーション（GTF）のダウンロード: featureCount(subread)\n",
        "import gzip\n",
        "import os\n",
        "import shutil\n",
        "import subprocess\n",
        "\n",
        "# ワーキングディレクトリとファイルパス\n",
        "DIR_WORK = \"/content/drive/MyDrive/RNAseq/rawdata\"  #@param [\"/content/drive/MyDrive/RNAseq/rawdata\", \"option1\", \"option2\"] {allow-input: true}\n",
        "DIR_DOWNLOADS = \"../downloads\"  #@param [\"../download\", \"/content/drive/MyDrive/RNAseq/downloads\", \"option1\"] {allow-input: true}\n",
        "gtf_file = \"GCF_000001635.27_GRCm39_genomic.gtf\"  #@param [\"GCF_000001635.27_GRCm39_genomic.gtf\", \"option1\", \"option2\"] {allow-input: true}\n",
        "\n",
        "# ワーキングディレクトリへ移動\n",
        "os.chdir(DIR_WORK)\n",
        "\n",
        "# ファイルが存在するかチェック\n",
        "if not os.path.exists(os.path.join(DIR_DOWNLOADS, gtf_file)):\n",
        "    # ダウンロード\n",
        "    gtf_file_url = \"https://ftp.ncbi.nlm.nih.gov/genomes/all/GCF/000/001/635/GCF_000001635.27_GRCm39/GCF_000001635.27_GRCm39_genomic.gtf.gz\"  #@param [\"https://ftp.ncbi.nlm.nih.gov/genomes/all/GCF/000/001/635/GCF_000001635.27_GRCm39/GCF_000001635.27_GRCm39_genomic.gtf.gz\", \"option1\", \"option2\"] {allow-input: true}\n",
        "    subprocess.run([\"wget\", gtf_file_url, \"-P\", DIR_DOWNLOADS])\n",
        "\n",
        "    # 解凍\n",
        "    gtf_file_path = os.path.join(DIR_DOWNLOADS, gtf_file + \".gz\")\n",
        "    output_file_path = os.path.join(DIR_DOWNLOADS, gtf_file)\n",
        "    with gzip.open(gtf_file_path, 'rb') as f_in:\n",
        "        with open(output_file_path, 'wb') as f_out:\n",
        "            shutil.copyfileobj(f_in, f_out)\n",
        "else:\n",
        "    print(\"ファイルがすでに存在します。\")"
      ],
      "metadata": {
        "colab": {
          "base_uri": "https://localhost:8080/"
        },
        "cellView": "form",
        "id": "sl3tZuiy636u",
        "outputId": "5be09631-b891-42d1-8486-1b2a7787e360"
      },
      "execution_count": null,
      "outputs": [
        {
          "output_type": "stream",
          "name": "stdout",
          "text": [
            "ファイルがすでに存在します。\n"
          ]
        }
      ]
    },
    {
      "cell_type": "code",
      "source": [
        "#@title リードカウント: featureCount(subread)\n",
        "import os\n",
        "import subprocess\n",
        "import time\n",
        "!apt-get -qq install subread\n",
        "os.environ['PATH'] += \":/usr/local/bin\"\n",
        "\n",
        "# ワーキングディレクトリ\n",
        "DIR_WORK = \"/content/drive/MyDrive/RNAseq/rawdata\"  #@param [\"/content/drive/MyDrive/RNAseq/rawdata\", \"option1\", \"option2\"] {allow-input: true}\n",
        "os.chdir(DIR_WORK)\n",
        "\n",
        "# ファイルパス\n",
        "annotation_file = \"/content/drive/MyDrive/RNAseq/downloads/GCF_000001635.27_GRCm39_genomic.gtf\"  #@param [\"/content/drive/MyDrive/RNAseq/downloads/GCF_000001635.27_GRCm39_genomic.gtf\", \"../downloads/GCF_000001635.27_GRCm39_genomic.gtf\", \"option1\", \"option2\"] {allow-input: true}\n",
        "input_file = \"/content/drive/MyDrive/RNAseq/bamfiles/*_sorted.bam\" #@param [\"/content/drive/MyDrive/RNAseq/bamfiles/*_sorted.bam\", \"../bamfiles/*_sorted.bam\", \"option1\", \"option2\"] {allow-input: true}\n",
        "output_file = \"/content/drive/MyDrive/RNAseq/featureCounts/featureCounts.txt\"  #@param [\"/content/drive/MyDrive/RNAseq/featureCounts/featureCounts.txt\", \"../featureCounts/featureCounts.txt\", \"option1\", \"option2\"] {allow-input: true}\n",
        "\n",
        "# featureCountsの定義\n",
        "# featureCounts_cmd = [\n",
        "#     \"featureCounts\",\n",
        "#     \"-F\", \"GTF\",\n",
        "#     \"-t\", \"CDS\",\n",
        "#     \"-g\", \"gene_id\",\n",
        "#     \"-a\", annotation_file,\n",
        "#     \"-o\", output_file,\n",
        "#     \"-p\", input_file\n",
        "# ]\n",
        "\n",
        "# 実行時間を記録\n",
        "start_time = time.time()\n",
        "print(f\"Processing started at {time.strftime('%Y-%m-%d %H:%M:%S', time.localtime(start_time))}\")\n",
        "\n",
        "# featureCountsを実行\n",
        "# subprocess.run(featureCounts_cmd)\n",
        "!featureCounts -F GTF -t CDS -g gene_id \\\n",
        "    -a $annotation_file \\\n",
        "    -o $output_file \\\n",
        "    -p $input_file\n",
        "\n",
        "# 実行時間を計算して表示\n",
        "end_time = time.time()\n",
        "execution_time = end_time - start_time\n",
        "print(f\"Processing time: {execution_time} seconds.\")\n"
      ],
      "metadata": {
        "id": "ITFO1M7UdecX",
        "cellView": "form"
      },
      "execution_count": null,
      "outputs": []
    },
    {
      "cell_type": "code",
      "source": [],
      "metadata": {
        "id": "_qZclYQMnLGl"
      },
      "execution_count": null,
      "outputs": []
    },
    {
      "cell_type": "markdown",
      "source": [
        "#その他"
      ],
      "metadata": {
        "id": "eBgQSaJ7CBTE"
      }
    },
    {
      "cell_type": "markdown",
      "source": [
        "###(seqkit: 実装できていない)"
      ],
      "metadata": {
        "id": "nG9yEcd7CVHp"
      }
    },
    {
      "cell_type": "code",
      "source": [
        "#@title (seqkit: 実装できていない)\n",
        "# %cd /content\n",
        "\n",
        "# !git clone https://github.com/shenwei356/seqkit.git\n",
        "# %cd seqkit\n",
        "# !make\n",
        "# !sudo make install"
      ],
      "metadata": {
        "id": "moBuWaaqwCGf"
      },
      "execution_count": null,
      "outputs": []
    },
    {
      "cell_type": "code",
      "source": [
        "## ----------シェルコマンドをPythonコードで実行----------\n",
        "# Trimmomaticをダウンロードして展開する\n",
        "# %cd /content/drive/MyDrive/RNAseq/downloads\n",
        "# !wget http://www.usadellab.org/cms/uploads/supplementary/Trimmomatic/Trimmomatic-0.39.zip\n",
        "# !unzip Trimmomatic-0.39.zip\n",
        "## -------------------------------------------------------"
      ],
      "metadata": {
        "id": "MkYqV8-6RSQZ"
      },
      "execution_count": null,
      "outputs": []
    },
    {
      "cell_type": "code",
      "source": [],
      "metadata": {
        "id": "NGdVs63TnzJ2"
      },
      "execution_count": null,
      "outputs": []
    },
    {
      "cell_type": "markdown",
      "source": [
        "###(トリミング: 実行実績あり: Trimmomatic)"
      ],
      "metadata": {
        "id": "sX_fPqAwfaHS"
      }
    },
    {
      "cell_type": "code",
      "source": [
        "#(トリミング: 実行実績あり: Trimmomatic)\n",
        "\n",
        "import os\n",
        "import subprocess\n",
        "import time\n",
        "\n",
        "# ファイルパス\n",
        "%cd /content/drive/MyDrive/RNAseq/rawdata\n",
        "sample_list_file = \"sample_list.txt\"  #@param [\"sample_list.txt\", \"sample_list_original.txt\", \"option1\"] {allow-input: true}\n",
        "ILLUMINACLIP_file = \"../downloads/Trimmomatic-0.39/adapters/TruSeq2-PE.fa:2:30:10\"  #@param [\"../downloads/Trimmomatic-0.39/adapters/TruSeq2-PE.fa:2:30:10\", \"option1\", \"option2\"] {allow-input: true}\n",
        "JAVA_file = \"../downloads/Trimmomatic-0.39/trimmomatic-0.39.jar\"  #@param [\"../downloads/Trimmomatic-0.39/trimmomatic-0.39.jar\", \"option1\", \"option2\"] {allow-input: true}\n",
        "\n",
        "# サンプルリストをファイルから読み取る\n",
        "with open(sample_list_file, \"r\") as f:\n",
        "    sample_list = f.read().splitlines()\n",
        "\n",
        "# サンプルリストをループで処理\n",
        "for sample_line in sample_list[1:]:  # 1行目をスキップして残りの行を処理\n",
        "    # サンプル名を分割して取得\n",
        "    sample_data = sample_line.strip().split(\"\\t\")\n",
        "    sample = sample_data[0]  # サンプル名\n",
        "    # 入力ファイルのフルパスを指定\n",
        "    input_forward = f\"{sample_data[1]}_1.fastq.gz\"\n",
        "    input_reverse = f\"{sample_data[1]}_2.fastq.gz\"\n",
        "    output_forward = f\"../trimmed/paired_{sample_data[1]}_1.trim.fastq.gz ../trimmed/unpaired_{sample_data[1]}_1.trim.fastq.gz \"\n",
        "    output_reverse = f\"../trimmed/paired_{sample_data[1]}_2.trim.fastq.gz ../trimmed/unpaired_{sample_data[1]}_2.trim.fastq.gz \"\n",
        "\n",
        "    # ファイル名を出力して確認\n",
        "    print(f\"Sample: {sample}, Forward Input File: {input_forward}, Reverse Input File: {input_reverse}\")\n",
        "    print(f\"Sample: {sample}, Forward Output File: {output_forward}, Reverse Output File: {output_reverse}\")\n",
        "\n",
        "    # 処理開始時間を記録\n",
        "    start_time = time.time()\n",
        "\n",
        "    # コマンドを構築\n",
        "    trimmomatic_cmd = f\"java -jar {JAVA_file} PE -phred33 {input_forward} {input_reverse} \" \\\n",
        "                          f\"{output_forward} {output_reverse} \" \\\n",
        "                          f\"ILLUMINACLIP:{ILLUMINACLIP_file}\"\n",
        "\n",
        "    # コマンド実行前のメッセージを表示\n",
        "    print(f\"Starting trimming for sample {sample_data[1]}...\")\n",
        "\n",
        "    # trimmomaticコマンドを実行\n",
        "    result = subprocess.run(trimmomatic_cmd, shell=True, capture_output=True, text=True)\n",
        "\n",
        "    # 結果を表示\n",
        "    print(f\"Trimming for sample {sample_data[1]} finished with return code: {result.returncode}\")\n",
        "    print(result.stdout)\n",
        "    print(result.stderr)\n",
        "\n",
        "    # 処理終了時間を記録\n",
        "    end_time = time.time()\n",
        "\n",
        "    # 処理時間を計算して表示\n",
        "    processing_time = end_time - start_time\n",
        "    print(f\"Processing time for sample {sample_data[1]}: {processing_time} seconds\")\n",
        "\n",
        "    # 処理の区切りを示すメッセージを表示\n",
        "    print(f\"------------------------------------------------------\")\n"
      ],
      "metadata": {
        "id": "J83kLdNjbz-0"
      },
      "execution_count": null,
      "outputs": []
    },
    {
      "cell_type": "markdown",
      "source": [
        "###(クオリティコントロールレポート(MultiQC): リポートが出力されない)"
      ],
      "metadata": {
        "id": "LNpoEMHkDy3H"
      }
    },
    {
      "cell_type": "code",
      "source": [
        "import os\n",
        "\n",
        "# ワーキングディレクトリとファイルパス\n",
        "DIR_WORK = \"/content\"  #@param [\"/content\", \"/content/drive/MyDrive/RNAseq/rawdata\", \"option2\"] {allow-input: true}\n",
        "\n",
        "# ワーキングディレクトリへ移動\n",
        "os.chdir(DIR_WORK)\n",
        "\n",
        "!git clone https://github.com/MultiQC/MultiQC_Notebook.git\n",
        "\n"
      ],
      "metadata": {
        "id": "Nh4W-j4z8SqZ"
      },
      "execution_count": null,
      "outputs": []
    },
    {
      "cell_type": "code",
      "source": [
        "# %pip install --force-reinstall --upgrade git+https://github.com/ewels/MultiQC.git"
      ],
      "metadata": {
        "id": "PwplxSYT_FOk"
      },
      "execution_count": null,
      "outputs": []
    },
    {
      "cell_type": "code",
      "source": [
        "import multiqc\n",
        "print(multiqc.__version__)"
      ],
      "metadata": {
        "colab": {
          "base_uri": "https://localhost:8080/"
        },
        "id": "AXTm0lR6_GSv",
        "outputId": "b7e707b4-81a6-47cf-d9d7-7d3d59894f45"
      },
      "execution_count": null,
      "outputs": [
        {
          "output_type": "stream",
          "name": "stdout",
          "text": [
            "1.22.dev0\n"
          ]
        }
      ]
    },
    {
      "cell_type": "code",
      "source": [
        "# (クオリティコントロールレポート: MultiQC): リポートが出力されない\n",
        "# %pip install --force-reinstall --upgrade git+https://github.com/ewels/MultiQC.git\n",
        "\n",
        "import os\n",
        "import subprocess\n",
        "import time\n",
        "import multiqc\n",
        "print(multiqc.__version__)\n",
        "\n",
        "# ワーキングディレクトリとファイルパス\n",
        "DIR_WORK = \"/content/drive/MyDrive/RNAseq/rawdata\"  #@param [\"/content/drive/MyDrive/RNAseq/rawdata\", \"option1\", \"option2\"] {allow-input: true}\n",
        "DIR_MULTIQC = \"/content/drive/MyDrive/RNAseq/multiqc\"  #@param [\"../multiqc\", \"/content/drive/MyDrive/RNAseq/multiqc\", \"option1\"] {allow-input: true}\n",
        "\n",
        "# 入力ディレクトリのリスト\n",
        "input_path_1 = \"/content/drive/MyDrive/RNAseq/rawdata\"  #@param [\".\", \"/content/drive/MyDrive/RNAseq/rawdata\", \"option1\"] {allow-input: true}\n",
        "input_path_2 = \"/content/drive/MyDrive/RNAseq/trimmed\"  #@param [\"../trimmed\", \"/content/drive/MyDrive/RNAseq/trimmed\", \"option1\"] {allow-input: true}\n",
        "input_path_3 = \"\"  #@param [\"\", \"option1\", \"option2\"] {allow-input: true}\n",
        "\n",
        "DIR_INPUT = [input_path_1, input_path_2, input_path_3]\n",
        "DIR_ANALYSIS = DIR_INPUT\n",
        "\n",
        "# ワーキングディレクトリへ移動\n",
        "os.chdir(DIR_WORK)\n",
        "\n",
        "# 処理開始時間を記録\n",
        "start_time = time.time()\n",
        "print(f\"Processing started at {time.strftime('%Y-%m-%d %H:%M:%S', time.localtime(start_time))}\")\n",
        "\n",
        "# MultiQCを実行\n",
        "multiqc.run(\n",
        "            # input_dir= DIR_INPUT,\n",
        "            output_dir=DIR_MULTIQC,\n",
        "            analysis_dir=DIR_ANALYSIS)\n",
        "\n",
        "print(\"MultiQC processing completed.\")\n",
        "\n",
        "# 処理終了時間を記録\n",
        "end_time = time.time()\n",
        "\n",
        "# 処理時間を計算して表示\n",
        "processing_time = end_time - start_time\n",
        "print(f\"Processing time: {processing_time} seconds.\")\n"
      ],
      "metadata": {
        "id": "zpZ9MdGX_GKS"
      },
      "execution_count": null,
      "outputs": []
    },
    {
      "cell_type": "code",
      "source": [
        "import IPython\n",
        "\n",
        "# Best if using Google Colab\n",
        "IPython.display.HTML(filename='./multiqc_report.html')\n",
        "\n",
        "# Best if running locally\n",
        "# IPython.display.IFrame('./multiqc_report.html', '100%', 600)"
      ],
      "metadata": {
        "id": "n4EugWsx_GGE"
      },
      "execution_count": null,
      "outputs": []
    },
    {
      "cell_type": "markdown",
      "source": [
        "###(フォルダとファイルの削除→必要があればアクティブにして実行)"
      ],
      "metadata": {
        "id": "kBPf2QHZgl0j"
      }
    },
    {
      "cell_type": "code",
      "source": [
        "# import os\n",
        "# import shutil\n",
        "\n",
        "# 削除するディレクトリの親ディレクトリのパス\n",
        "# parent_directory = \"/content/drive/MyDrive/RNAseq\" #@param [\"/content/drive/MyDrive/RNAseq/rawdata\", \"option1\", \"option2\"] {allow-input: true}\n",
        "\n",
        "# 削除するサブディレクトリのリスト\n",
        "# subdirectories = [\"downloads\", \"trimmed\", \"bamfiles\", \"featureCounts\", \"fastp\", \"fastp.1\", \"seqkit\"]\n",
        "\n",
        "# サブディレクトリとファイルを削除\n",
        "# for subdir in subdirectories:\n",
        "#     path = os.path.join(parent_directory, subdir)\n",
        "#     if os.path.isdir(path):\n",
        "#         os.rmdir(path)\n",
        "#         print(f\"{path} を削除しました。\")\n",
        "#     elif os.path.isfile(path):\n",
        "#         os.remove(path)\n",
        "#         print(f\"{path} を削除しました。\")\n",
        "#     else:\n",
        "#         print(f\"{path} は存在しません。\")\n",
        "\n",
        "# サブディレクトリを再帰的に削除\n",
        "# for subdir in subdirectories:\n",
        "#     path = os.path.join(parent_directory, subdir)\n",
        "#     if os.path.exists(path):\n",
        "#         if os.path.isdir(path):\n",
        "#             shutil.rmtree(path)\n",
        "#             print(f\"{path} を再帰的に削除しました。\")\n",
        "#         else:\n",
        "#             print(f\"{path} はディレクトリではないため削除できません。\")\n",
        "#     else:\n",
        "#         print(f\"{path} は存在しません。\")"
      ],
      "metadata": {
        "colab": {
          "base_uri": "https://localhost:8080/"
        },
        "id": "3w5AbDzEuWd3",
        "outputId": "ebfb7dd4-51c8-472f-85de-2d721b67290f"
      },
      "execution_count": null,
      "outputs": [
        {
          "output_type": "stream",
          "name": "stdout",
          "text": [
            "/content/drive/MyDrive/RNAseq/downloads は存在しません。\n",
            "/content/drive/MyDrive/RNAseq/trimmed は存在しません。\n",
            "/content/drive/MyDrive/RNAseq/bamfiles は存在しません。\n",
            "/content/drive/MyDrive/RNAseq/featureCounts は存在しません。\n",
            "/content/drive/MyDrive/RNAseq/fastp は存在しません。\n",
            "/content/drive/MyDrive/RNAseq/fastp.1 は存在しません。\n",
            "/content/drive/MyDrive/RNAseq/seqkit を再帰的に削除しました。\n"
          ]
        }
      ]
    },
    {
      "cell_type": "code",
      "source": [],
      "metadata": {
        "id": "NJfAdaoE_DcB"
      },
      "execution_count": null,
      "outputs": []
    },
    {
      "cell_type": "code",
      "source": [],
      "metadata": {
        "id": "knA2q1sdKEjZ"
      },
      "execution_count": null,
      "outputs": []
    }
  ]
}