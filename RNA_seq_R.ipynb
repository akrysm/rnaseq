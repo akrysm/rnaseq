{
  "nbformat": 4,
  "nbformat_minor": 0,
  "metadata": {
    "colab": {
      "provenance": [],
      "authorship_tag": "ABX9TyNDwf0j+VEFf3an1+3tVZtS",
      "include_colab_link": true
    },
    "kernelspec": {
      "name": "python3",
      "display_name": "Python 3"
    },
    "language_info": {
      "name": "python"
    }
  },
  "cells": [
    {
      "cell_type": "markdown",
      "metadata": {
        "id": "view-in-github",
        "colab_type": "text"
      },
      "source": [
        "<a href=\"https://colab.research.google.com/github/akrysm/rnaseq/blob/main/RNA_seq_R.ipynb\" target=\"_parent\"><img src=\"https://colab.research.google.com/assets/colab-badge.svg\" alt=\"Open In Colab\"/></a>"
      ]
    },
    {
      "cell_type": "markdown",
      "source": [
        "#Pythonでの準備: ランタイム設定で「Python 3」にする"
      ],
      "metadata": {
        "id": "ch7f4NiEaJGH"
      }
    },
    {
      "cell_type": "code",
      "source": [
        "#@title Google Driveをマウント\n",
        "# ランタイムタイプをPythonに変更\n",
        "from google.colab import drive\n",
        "drive.mount('/content/drive')\n",
        "\n",
        "# ランタイムタイプをRに変更"
      ],
      "metadata": {
        "id": "RhrVeHzVojsy",
        "colab": {
          "base_uri": "https://localhost:8080/"
        },
        "outputId": "d4ecb726-95aa-403a-bd25-d48f8ad03ea2"
      },
      "execution_count": null,
      "outputs": [
        {
          "output_type": "stream",
          "name": "stdout",
          "text": [
            "Mounted at /content/drive\n"
          ]
        }
      ]
    },
    {
      "cell_type": "markdown",
      "source": [
        "#Rでの準備: ランタイム設定で「R」にする"
      ],
      "metadata": {
        "id": "8UC-YKP5zMH8"
      }
    },
    {
      "cell_type": "code",
      "source": [
        "#@title インストール&ロードパッケージ, 関数定義\n",
        "#インストールパッケージ\n",
        "install.packages(\"BiocManager\")\n",
        "install.packages(\"data.tree\")\n",
        "install.packages(\"fs\")\n",
        "install.packages(\"openxlsx\")\n",
        "\n",
        "BiocManager::install(\"edgeR\")\n",
        "\n",
        "#ロードパッケージ\n",
        "library(edgeR)\n",
        "library(fs)\n",
        "library(data.tree)\n",
        "library(lubridate)\n",
        "library(magrittr)\n",
        "library(openxlsx)\n",
        "library(readxl)\n",
        "library(stringr)\n",
        "library(tidyverse)\n",
        "\n",
        "# 関数\n",
        "# 再帰的にフォルダ内のファイルとサブフォルダーを表示する関数\n",
        "list_files_recursive <- function(path) {\n",
        "  dir_contents <- list.files(path, full.names = TRUE)\n",
        "  for (item in dir_contents) {\n",
        "    if (file.info(item)$isdir) {\n",
        "      cat(\"フォルダ:\", item, \"\\n\")\n",
        "      list_files_recursive(item)\n",
        "    } else {\n",
        "      cat(\"ファイル:\", item, \"\\n\")\n",
        "    }\n",
        "  }\n",
        "}\n",
        "\n",
        "# フォルダーのツリー構造を表示する関数\n",
        "display_tree <- function(path) {\n",
        "  system(paste(\"tree\", path))\n",
        "}\n",
        "\n",
        "# フォルダが存在しない場合は作成する関数\n",
        "create_folder <- function(folder_path) {\n",
        "  if (!file.exists(folder_path)) {\n",
        "    dir.create(folder_path, recursive = TRUE)\n",
        "    print(paste(\"Folder created:\", folder_path))\n",
        "  } else {\n",
        "    print(paste(\"Folder already exists:\", folder_path))\n",
        "  }\n",
        "}\n",
        "\n",
        "# 各組織におけるPV_SV, PC10_PV, PC30_PVの比較結果をエクセルに抽出(P < 0.05, FDR < 0.05)\n",
        "extract_gene_list <- function(read_data, tissues, sample_ids, P_VALUE = 0.05, FDR_VALUE = 0.05) {\n",
        "        for (tissue in tissues) {\n",
        "                # サンプルIDを用いて比較のリストを作成\n",
        "                comparisons <- c()\n",
        "                for (i in 1:length(sample_ids)) {\n",
        "                        for (j in (i+1):length(sample_ids)) {\n",
        "                                comparisons <- c(comparisons, paste0(tissue, \"_\", sample_ids[i], \"-\", tissue, \"_\", sample_ids[j]))\n",
        "                        }\n",
        "                }\n",
        "\n",
        "                # 指定した組織に対応するデータを抽出\n",
        "                data_tissue <- read_data %>% filter(Comparison %in% comparisons)\n",
        "\n",
        "                # P値とFDRでフィルタリング\n",
        "                data_tissue_p <- data_tissue %>% filter(PValue < P_VALUE)\n",
        "                data_tissue_fdr <- data_tissue %>% filter(FDR < FDR_VALUE)\n",
        "\n",
        "                # 各条件でのフィルタリング\n",
        "                data_tissue_fdr_PV_SV_up <- data_tissue_fdr %>% filter(Comparison == paste0(tissue, \"_PV-\", tissue, \"_SV\"), Regulation == \"up\")\n",
        "                data_tissue_fdr_PV_SV_down <- data_tissue_fdr %>% filter(Comparison == paste0(tissue, \"_PV-\", tissue, \"_SV\"), Regulation == \"down\")\n",
        "                data_tissue_fdr_PV_SV_both <- data_tissue_fdr %>% filter(Comparison == paste0(tissue, \"_PV-\", tissue, \"_SV\"), Regulation %in% c(\"up\", \"down\"))\n",
        "\n",
        "                data_tissue_fdr_PC10_PV_up <- data_tissue_fdr %>% filter(Comparison == paste0(tissue, \"_PC10-\", tissue, \"_PV\"), Regulation == \"up\")\n",
        "                data_tissue_fdr_PC10_PV_down <- data_tissue_fdr %>% filter(Comparison == paste0(tissue, \"_PC10-\", tissue, \"_PV\"), Regulation == \"down\")\n",
        "                data_tissue_fdr_PC10_PV_both <- data_tissue_fdr %>% filter(Comparison == paste0(tissue, \"_PC10-\", tissue, \"_PV\"), Regulation %in% c(\"up\", \"down\"))\n",
        "\n",
        "                data_tissue_fdr_PC30_PV_up <- data_tissue_fdr %>% filter(Comparison == paste0(tissue, \"_PC30-\", tissue, \"_PV\"), Regulation == \"up\")\n",
        "                data_tissue_fdr_PC30_PV_down <- data_tissue_fdr %>% filter(Comparison == paste0(tissue, \"_PC30-\", tissue, \"_PV\"), Regulation == \"down\")\n",
        "                data_tissue_fdr_PC30_PV_both <- data_tissue_fdr %>% filter(Comparison == paste0(tissue, \"_PC30-\", tissue, \"_PV\"), Regulation %in% c(\"up\", \"down\"))\n",
        "\n",
        "                # ファイル名を指定\n",
        "                file_name <- paste0(tissue, \"_gene_list.xlsx\")\n",
        "\n",
        "                # 新しいExcelブックを作成\n",
        "                wb <- createWorkbook()\n",
        "\n",
        "                # シートを追加\n",
        "                addWorksheet(wb, \"P\")\n",
        "                addWorksheet(wb, \"FDR\")\n",
        "                addWorksheet(wb, \"FDR PV-SV Up\")\n",
        "                addWorksheet(wb, \"FDR PV-SV Down\")\n",
        "                addWorksheet(wb, \"FDR PV-SV Both\")\n",
        "                addWorksheet(wb, \"FDR PC10-PV Up\")\n",
        "                addWorksheet(wb, \"FDR PC10-PV Down\")\n",
        "                addWorksheet(wb, \"FDR PC10-PV Both\")\n",
        "                addWorksheet(wb, \"FDR PC30-PV Up\")\n",
        "                addWorksheet(wb, \"FDR PC30-PV Down\")\n",
        "                addWorksheet(wb, \"FDR PC30-PV Both\")\n",
        "\n",
        "                # データをシートに書き込む\n",
        "                writeData(wb, sheet = \"P\", data_tissue_p)\n",
        "                writeData(wb, sheet = \"FDR\", data_tissue_fdr)\n",
        "                writeData(wb, sheet = \"FDR PV-SV Up\", data_tissue_fdr_PV_SV_up)\n",
        "                writeData(wb, sheet = \"FDR PV-SV Down\", data_tissue_fdr_PV_SV_down)\n",
        "                writeData(wb, sheet = \"FDR PV-SV Both\", data_tissue_fdr_PV_SV_both)\n",
        "                writeData(wb, sheet = \"FDR PC10-PV Up\", data_tissue_fdr_PC10_PV_up)\n",
        "                writeData(wb, sheet = \"FDR PC10-PV Down\", data_tissue_fdr_PC10_PV_down)\n",
        "                writeData(wb, sheet = \"FDR PC10-PV Both\", data_tissue_fdr_PC10_PV_both)\n",
        "                writeData(wb, sheet = \"FDR PC30-PV Up\", data_tissue_fdr_PC30_PV_up)\n",
        "                writeData(wb, sheet = \"FDR PC30-PV Down\", data_tissue_fdr_PC30_PV_down)\n",
        "                writeData(wb, sheet = \"FDR PC30-PV Both\", data_tissue_fdr_PC30_PV_both)\n",
        "\n",
        "                # Excelファイルを保存\n",
        "                saveWorkbook(wb, file_name, overwrite = TRUE)\n",
        "        }\n",
        "}"
      ],
      "metadata": {
        "id": "1wDA2OwvqGg_",
        "colab": {
          "base_uri": "https://localhost:8080/"
        },
        "outputId": "620b4c98-dfab-4b8c-ab21-bd18d1336ba9"
      },
      "execution_count": null,
      "outputs": [
        {
          "output_type": "stream",
          "name": "stderr",
          "text": [
            "Installing package into ‘/usr/local/lib/R/site-library’\n",
            "(as ‘lib’ is unspecified)\n",
            "\n",
            "Installing package into ‘/usr/local/lib/R/site-library’\n",
            "(as ‘lib’ is unspecified)\n",
            "\n",
            "Installing package into ‘/usr/local/lib/R/site-library’\n",
            "(as ‘lib’ is unspecified)\n",
            "\n",
            "Installing package into ‘/usr/local/lib/R/site-library’\n",
            "(as ‘lib’ is unspecified)\n",
            "\n",
            "also installing the dependency ‘Rcpp’\n",
            "\n",
            "\n",
            "'getOption(\"repos\")' replaces Bioconductor standard repositories, see\n",
            "'help(\"repositories\", package = \"BiocManager\")' for details.\n",
            "Replacement repositories:\n",
            "    CRAN: https://cran.rstudio.com\n",
            "\n",
            "Bioconductor version 3.18 (BiocManager 1.30.22), R 4.3.3 (2024-02-29)\n",
            "\n",
            "Installing package(s) 'BiocVersion', 'edgeR'\n",
            "\n",
            "also installing the dependencies ‘statmod’, ‘limma’, ‘locfit’\n",
            "\n",
            "\n",
            "Old packages: 'bit', 'bslib', 'callr', 'curl', 'data.table', 'DBI', 'dbplyr',\n",
            "  'devtools', 'digest', 'gargle', 'ggplot2', 'highr', 'htmltools', 'isoband',\n",
            "  'openssl', 'pkgbuild', 'processx', 'ragg', 'remotes', 'rmarkdown',\n",
            "  'rstudioapi', 'rvest', 'sass', 'systemfonts', 'textshaping', 'tidyselect',\n",
            "  'tinytex', 'usethis', 'whisker', 'xfun', 'zip', 'lattice', 'nlme'\n",
            "\n",
            "Loading required package: limma\n",
            "\n",
            "\n",
            "Attaching package: ‘lubridate’\n",
            "\n",
            "\n",
            "The following objects are masked from ‘package:base’:\n",
            "\n",
            "    date, intersect, setdiff, union\n",
            "\n",
            "\n",
            "── \u001b[1mAttaching core tidyverse packages\u001b[22m ──────────────────────── tidyverse 2.0.0 ──\n",
            "\u001b[32m✔\u001b[39m \u001b[34mdplyr  \u001b[39m 1.1.4     \u001b[32m✔\u001b[39m \u001b[34mreadr  \u001b[39m 2.1.5\n",
            "\u001b[32m✔\u001b[39m \u001b[34mforcats\u001b[39m 1.0.0     \u001b[32m✔\u001b[39m \u001b[34mtibble \u001b[39m 3.2.1\n",
            "\u001b[32m✔\u001b[39m \u001b[34mggplot2\u001b[39m 3.4.4     \u001b[32m✔\u001b[39m \u001b[34mtidyr  \u001b[39m 1.3.1\n",
            "\u001b[32m✔\u001b[39m \u001b[34mpurrr  \u001b[39m 1.0.2     \n",
            "── \u001b[1mConflicts\u001b[22m ────────────────────────────────────────── tidyverse_conflicts() ──\n",
            "\u001b[31m✖\u001b[39m \u001b[34mtidyr\u001b[39m::\u001b[32mextract()\u001b[39m   masks \u001b[34mmagrittr\u001b[39m::extract()\n",
            "\u001b[31m✖\u001b[39m \u001b[34mdplyr\u001b[39m::\u001b[32mfilter()\u001b[39m    masks \u001b[34mstats\u001b[39m::filter()\n",
            "\u001b[31m✖\u001b[39m \u001b[34mdplyr\u001b[39m::\u001b[32mlag()\u001b[39m       masks \u001b[34mstats\u001b[39m::lag()\n",
            "\u001b[31m✖\u001b[39m \u001b[34mpurrr\u001b[39m::\u001b[32mset_names()\u001b[39m masks \u001b[34mmagrittr\u001b[39m::set_names()\n",
            "\u001b[36mℹ\u001b[39m Use the conflicted package (\u001b[3m\u001b[34m<http://conflicted.r-lib.org/>\u001b[39m\u001b[23m) to force all conflicts to become errors\n"
          ]
        }
      ]
    },
    {
      "cell_type": "code",
      "source": [
        "#@title  フォルダ作成\n",
        "# 新規フォルダのパス\n",
        "DIR_NEW_FOLDER <- \"/content/drive/MyDrive/RNAseq\"  #@param [\"/content/drive/MyDrive/RNAseq\", \"option1\", \"option2\"] {allow-input: true}\n",
        "NEW_FOLDER_NAME <- \"R\"  #@param [\"R\", \"option1\", \"option2\"] {allow-input: true}\n",
        "\n",
        "# フォルダが存在しない場合は作成する\n",
        "create_folder(str_c(DIR_NEW_FOLDER, \"/\", NEW_FOLDER_NAME, sep = \"\"))"
      ],
      "metadata": {
        "colab": {
          "base_uri": "https://localhost:8080/"
        },
        "id": "Ln_MoDFJx1Zj",
        "outputId": "1eb24eb0-2814-4e4d-cdfd-3179a85a12fa"
      },
      "execution_count": null,
      "outputs": [
        {
          "output_type": "stream",
          "name": "stdout",
          "text": [
            "[1] \"Folder already exists: /content/drive/MyDrive/RNAseq/R\"\n"
          ]
        }
      ]
    },
    {
      "cell_type": "code",
      "source": [
        "#@title  (コンテンツ表示)\n",
        "# Google Driveがマウントされたパスを表示\n",
        "# drive_path <- '/content/drive/MyDrive/RNAseq' #@param [\"/content\", \"/content/drive/MyDrive/RNAseq\", \"/content/drive/MyDrive/RNAseq/rawdata\", \"option\"] {allow-input: true}\n",
        "# cat(\"Google Driveのパス:\", drive_path, \"\\n\")\n",
        "\n",
        "# Google Drive内のファイルやフォルダーを表示\n",
        "# dir_contents <- list.files(drive_path)\n",
        "# cat(\"Google Driveの内容:\\n\")\n",
        "# cat(dir_contents, sep = \"\\n\")\n",
        "\n",
        "# Google Drive内のファイルやフォルダーを再帰的に表示\n",
        "# cat(\"Google Driveの中身:\\n\")\n",
        "# list_files_recursive(drive_path)\n",
        "\n",
        "# 再帰的にフォルダーを表示\n",
        "# recursive_list <- dir_ls(drive_path, recurse = TRUE)\n",
        "# print(recursive_list)\n",
        "\n",
        "# Rootの表示\n",
        "# rlang::env_parents(environment()) %>% purrr::map(environmentName)  %>%\n",
        "#   setNames(., nm = stringr::str_remove(., \"package:\")) %>%\n",
        "#   purrr::map(function(.) setNames(as.list(x=.), str_remove(., \"package:\") )) %>% rev %>%\n",
        "#   data.tree::as.Node()"
      ],
      "metadata": {
        "id": "px1pUhkRqGdx",
        "cellView": "form"
      },
      "execution_count": null,
      "outputs": []
    },
    {
      "cell_type": "markdown",
      "source": [
        "# データ整形"
      ],
      "metadata": {
        "id": "VaM8GksgzbvQ"
      }
    },
    {
      "cell_type": "code",
      "source": [
        "# ディレクトリ・パス設定\n",
        "# ワーキングディレクトリとファイルパス\n",
        "DIR_R <- \"/content/drive/MyDrive/RNAseq/R\"  #@param [\"/content/drive/MyDrive/RNAseq/R\", \"option1\", \"option2\"] {allow-input: true}\n",
        "DIR_WORK = \"/content/drive/MyDrive/RNAseq/R\"  #@param [\"/content/drive/MyDrive/RNAseq/featureCounts\", \"/content/drive/MyDrive/RNAseq/R\", \"option1\"] {allow-input: true}\n",
        "\n",
        "# ワーキングディレクトリへ移動\n",
        "setwd(DIR_WORK)\n",
        "print(paste(\"現在のワーキングディレクトリ:\", getwd()))\n"
      ],
      "metadata": {
        "colab": {
          "base_uri": "https://localhost:8080/"
        },
        "id": "blRIyTUFzawJ",
        "outputId": "f418fef7-771e-4312-83ad-70c7ae380f34"
      },
      "execution_count": null,
      "outputs": [
        {
          "output_type": "stream",
          "name": "stdout",
          "text": [
            "[1] \"現在のワーキングディレクトリ: /content/drive/MyDrive/RNAseq/R\"\n"
          ]
        }
      ]
    },
    {
      "cell_type": "code",
      "source": [
        "# データのコピー\n",
        "# ファイルをコピーする元と先のパス\n",
        "source_path <- \"/content/drive/MyDrive/RNAseq/featureCounts/featureCounts.txt\"  #@param [\"/content/drive/MyDrive/RNAseq/featureCounts/featureCounts.txt\", \"/content/drive/MyDrive/共有/名城大学農学部共有フォルダ/兒島孝明先生/RNA-seq/20240117_PCPxCLZ_PFC_NAc_HIP/吉見先生/240112_featureCounts/240112_featurecounts.txt\", \"option1\"] {allow-input: true}\n",
        "target_path <- \"/content/drive/MyDrive/RNAseq/R/featureCounts.txt\"  #@param [\"/content/drive/MyDrive/RNAseq/R/featureCounts.txt\", \"option1\", \"option2\"] {allow-input: true}\n",
        "\n",
        "# ファイルをコピー\n",
        "file.copy(from = source_path, to = target_path, overwrite = FALSE)\n"
      ],
      "metadata": {
        "colab": {
          "base_uri": "https://localhost:8080/",
          "height": 34
        },
        "id": "w9CvMfyUzemf",
        "outputId": "fe5c2177-2f25-4e8f-b8ca-87d54931b112"
      },
      "execution_count": null,
      "outputs": [
        {
          "output_type": "display_data",
          "data": {
            "text/html": [
              "TRUE"
            ],
            "text/markdown": "TRUE",
            "text/latex": "TRUE",
            "text/plain": [
              "[1] TRUE"
            ]
          },
          "metadata": {}
        }
      ]
    },
    {
      "cell_type": "code",
      "source": [
        "# データの書き出し(2-6列目削除)\n",
        "# ワーキングディレクトリとファイルパス\n",
        "DIR_WORK = \"/content/drive/MyDrive/RNAseq/R\"  #@param [\"/content/drive/MyDrive/RNAseq/R\", \"option1\", \"option2\"] {allow-input: true}\n",
        "file_path <- \"featureCounts.txt\"  #@param [\"featureCounts.txt\", \"/content/drive/MyDrive/RNAseq/R/featureCounts.txt\", \"option1\"] {allow-input: true}\n",
        "new_file_path <- \"featureCounts_rm2to6.txt\"  #@param [\"featureCounts_rm2to6.txt\", \"/content/drive/MyDrive/RNAseq/R/featureCounts_rm2to6.txt\", \"option1\"] {allow-input: true}\n",
        "\n",
        "# ワーキングディレクトリへ移動\n",
        "setwd(DIR_WORK)\n",
        "print(paste(\"現在のワーキングディレクトリ:\", getwd()))\n",
        "\n",
        "# ファイルを読み込む\n",
        "read_data <- read.table(file_path, header = TRUE, skip = 1, sep = \"\\t\")\n",
        "print(\"処理前\")\n",
        "head(read_data)\n",
        "read_data <- read_data %>% dplyr::select(-c(2:6))\n",
        "print(\"処理後\")\n",
        "head(read_data)\n",
        "# colnames(read_data) %>% length()\n",
        "colnames(read_data) <- c(\"Geneid\", \"HIP_PC10\", \"HIP_PC30\", \"HIP_PV\", \"HIP_SC10\", \"HIP_SC30\", \"HIP_SV\", \"NAc_PC10\", \"NAc_PC30\", \"NAc_PV\", \"NAc_SC10\", \"NAc_SC30\", \"NAc_SV\", \"PFC_PC10\", \"PFC_PC30\", \"PFC_PV\", \"PFC_SC10\", \"PFC_SC30\", \"PFC_SV\")\n",
        "\n",
        "# 新しいファイルに書き出す\n",
        "write.table(read_data, file = new_file_path, sep = \"\\t\", quote = FALSE, row.names = FALSE)"
      ],
      "metadata": {
        "id": "o2tyhQ0mzejT",
        "colab": {
          "base_uri": "https://localhost:8080/",
          "height": 628
        },
        "outputId": "9745187f-af52-4d6b-f7c7-4ba71b31e1be"
      },
      "execution_count": null,
      "outputs": [
        {
          "output_type": "stream",
          "name": "stdout",
          "text": [
            "[1] \"現在のワーキングディレクトリ: /content/drive/MyDrive/RNAseq/R\"\n",
            "[1] \"処理前\"\n"
          ]
        },
        {
          "output_type": "display_data",
          "data": {
            "text/html": [
              "<table class=\"dataframe\">\n",
              "<caption>A data.frame: 6 × 24</caption>\n",
              "<thead>\n",
              "\t<tr><th></th><th scope=col>Geneid</th><th scope=col>Chr</th><th scope=col>Start</th><th scope=col>End</th><th scope=col>Strand</th><th scope=col>Length</th><th scope=col>X.content.drive.MyDrive.RNAseq.bamfiles.HIP_PC10_sorted.bam</th><th scope=col>X.content.drive.MyDrive.RNAseq.bamfiles.HIP_PC30_sorted.bam</th><th scope=col>X.content.drive.MyDrive.RNAseq.bamfiles.HIP_PV_sorted.bam</th><th scope=col>X.content.drive.MyDrive.RNAseq.bamfiles.HIP_SC10_sorted.bam</th><th scope=col>⋯</th><th scope=col>X.content.drive.MyDrive.RNAseq.bamfiles.NAc_PV_sorted.bam</th><th scope=col>X.content.drive.MyDrive.RNAseq.bamfiles.NAc_SC10_sorted.bam</th><th scope=col>X.content.drive.MyDrive.RNAseq.bamfiles.NAc_SC30_sorted.bam</th><th scope=col>X.content.drive.MyDrive.RNAseq.bamfiles.NAc_SV_sorted.bam</th><th scope=col>X.content.drive.MyDrive.RNAseq.bamfiles.PFC_PC10_sorted.bam</th><th scope=col>X.content.drive.MyDrive.RNAseq.bamfiles.PFC_PC30_sorted.bam</th><th scope=col>X.content.drive.MyDrive.RNAseq.bamfiles.PFC_PV_sorted.bam</th><th scope=col>X.content.drive.MyDrive.RNAseq.bamfiles.PFC_SC10_sorted.bam</th><th scope=col>X.content.drive.MyDrive.RNAseq.bamfiles.PFC_SC30_sorted.bam</th><th scope=col>X.content.drive.MyDrive.RNAseq.bamfiles.PFC_SV_sorted.bam</th></tr>\n",
              "\t<tr><th></th><th scope=col>&lt;chr&gt;</th><th scope=col>&lt;chr&gt;</th><th scope=col>&lt;chr&gt;</th><th scope=col>&lt;chr&gt;</th><th scope=col>&lt;chr&gt;</th><th scope=col>&lt;int&gt;</th><th scope=col>&lt;int&gt;</th><th scope=col>&lt;int&gt;</th><th scope=col>&lt;int&gt;</th><th scope=col>&lt;int&gt;</th><th scope=col>⋯</th><th scope=col>&lt;int&gt;</th><th scope=col>&lt;int&gt;</th><th scope=col>&lt;int&gt;</th><th scope=col>&lt;int&gt;</th><th scope=col>&lt;int&gt;</th><th scope=col>&lt;int&gt;</th><th scope=col>&lt;int&gt;</th><th scope=col>&lt;int&gt;</th><th scope=col>&lt;int&gt;</th><th scope=col>&lt;int&gt;</th></tr>\n",
              "</thead>\n",
              "<tbody>\n",
              "\t<tr><th scope=row>1</th><td>Xkr4  </td><td>NC_000067.7;NC_000067.7;NC_000067.7;NC_000067.7;NC_000067.7;NC_000067.7;NC_000067.7;NC_000067.7;NC_000067.7;NC_000067.7;NC_000067.7;NC_000067.7                                                                                                                                                                                                                                                                                                                                                                                                                                                                                                                        </td><td>3286248;3286248;3393973;3422511;3491925;3491925;3491925;3491925;3740775;3740775;3740775;3740775                                                                                                                                                                                                                                                                                                                                                </td><td>3287191;3287191;3393983;3422536;3492124;3492124;3492124;3492124;3741571;3741571;3741571;3741571                                                                                                                                                                                                                                                                                                                                                </td><td>-;-;-;-;-;-;-;-;-;-;-;-                                                                                    </td><td>1978</td><td> 297</td><td> 294</td><td> 179</td><td> 184</td><td>⋯</td><td>  94</td><td> 130</td><td> 147</td><td>  88</td><td> 184</td><td> 121</td><td> 184</td><td> 172</td><td> 225</td><td> 194</td></tr>\n",
              "\t<tr><th scope=row>2</th><td>Rp1   </td><td>NC_000067.7;NC_000067.7;NC_000067.7;NC_000067.7;NC_000067.7;NC_000067.7;NC_000067.7;NC_000067.7;NC_000067.7;NC_000067.7;NC_000067.7;NC_000067.7;NC_000067.7;NC_000067.7;NC_000067.7;NC_000067.7;NC_000067.7;NC_000067.7;NC_000067.7;NC_000067.7;NC_000067.7;NC_000067.7;NC_000067.7;NC_000067.7;NC_000067.7;NC_000067.7;NC_000067.7;NC_000067.7;NC_000067.7;NC_000067.7;NC_000067.7;NC_000067.7;NC_000067.7;NC_000067.7;NC_000067.7;NC_000067.7;NC_000067.7;NC_000067.7;NC_000067.7;NC_000067.7;NC_000067.7;NC_000067.7;NC_000067.7;NC_000067.7;NC_000067.7;NC_000067.7;NC_000067.7;NC_000067.7;NC_000067.7;NC_000067.7;NC_000067.7;NC_000067.7;NC_000067.7;NC_000067.7</td><td>4186161;4189891;4190230;4190238;4212835;4212835;4218035;4218035;4218835;4218835;4234078;4234078;4240428;4240428;4267757;4267757;4276883;4276883;4296834;4296834;4298666;4298666;4301276;4301276;4313356;4313356;4313640;4313640;4313766;4313766;4315254;4315254;4331750;4331750;4337692;4337692;4354989;4354989;4363149;4363149;4363207;4381493;4381493;4414826;4422133;4422133;4422133;4422133;4422425;4422425;4422425;4422425;4479393;4479393</td><td>4186171;4189935;4190296;4190296;4212989;4212989;4218186;4218186;4218967;4218967;4234164;4234164;4240627;4240627;4267864;4267864;4277060;4277060;4297046;4297046;4298842;4298842;4301367;4301367;4313485;4313485;4313671;4313671;4313842;4313842;4315329;4315329;4331828;4331828;4337843;4337843;4355121;4355121;4363235;4363235;4363235;4381656;4381656;4420314;4422304;4422304;4422304;4422304;4423060;4423048;4423048;4423060;4479410;4479410</td><td>-;-;-;-;-;-;-;-;-;-;-;-;-;-;-;-;-;-;-;-;-;-;-;-;-;-;-;-;-;-;-;-;-;-;-;-;-;-;-;-;-;-;-;-;-;-;-;-;-;-;-;-;-;-</td><td>8863</td><td>   4</td><td>   7</td><td>   2</td><td>   6</td><td>⋯</td><td>   8</td><td>   2</td><td>   0</td><td>  16</td><td>   0</td><td>   6</td><td>   0</td><td>   6</td><td>   2</td><td>   0</td></tr>\n",
              "\t<tr><th scope=row>3</th><td>Sox17 </td><td>NC_000067.7;NC_000067.7;NC_000067.7;NC_000067.7;NC_000067.7;NC_000067.7;NC_000067.7;NC_000067.7;NC_000067.7;NC_000067.7;NC_000067.7;NC_000067.7;NC_000067.7;NC_000067.7;NC_000067.7;NC_000067.7;NC_000067.7;NC_000067.7;NC_000067.7;NC_000067.7;NC_000067.7                                                                                                                                                                                                                                                                                                                                                                                                            </td><td>4561942;4561942;4561942;4561942;4561942;4561942;4561942;4561942;4561942;4561942;4563323;4563323;4563323;4563323;4563323;4563323;4563995;4563995;4565359;4565359;4565359                                                                                                                                                                                                                                                                        </td><td>4562891;4562891;4562891;4562891;4562891;4562891;4562891;4562814;4562891;4562891;4563629;4563629;4563629;4563629;4563629;4563629;4564086;4564086;4565368;4565378;4565378                                                                                                                                                                                                                                                                        </td><td>-;-;-;-;-;-;-;-;-;-;-;-;-;-;-;-;-;-;-;-;-                                                                  </td><td>1369</td><td> 120</td><td> 138</td><td>  81</td><td> 113</td><td>⋯</td><td> 129</td><td> 184</td><td> 159</td><td> 142</td><td> 176</td><td> 119</td><td> 115</td><td> 117</td><td> 163</td><td> 145</td></tr>\n",
              "\t<tr><th scope=row>4</th><td>Mrpl15</td><td>NC_000067.7;NC_000067.7;NC_000067.7;NC_000067.7;NC_000067.7;NC_000067.7;NC_000067.7;NC_000067.7;NC_000067.7;NC_000067.7;NC_000067.7;NC_000067.7;NC_000067.7;NC_000067.7                                                                                                                                                                                                                                                                                                                                                                                                                                                                                                </td><td>4844678;4846690;4847748;4847748;4852447;4852791;4852791;4852791;4854174;4854174;4854174;4855796;4855796;4855796                                                                                                                                                                                                                                                                                                                                </td><td>4844739;4847024;4847871;4847871;4852524;4852956;4852956;4852956;4854328;4854328;4854328;4855900;4855900;4855900                                                                                                                                                                                                                                                                                                                                </td><td>-;-;-;-;-;-;-;-;-;-;-;-;-;-                                                                                </td><td>1025</td><td>1347</td><td>1427</td><td> 976</td><td>1252</td><td>⋯</td><td>1026</td><td>1415</td><td>1062</td><td> 986</td><td>1129</td><td> 923</td><td>1306</td><td>1344</td><td>1183</td><td> 982</td></tr>\n",
              "\t<tr><th scope=row>5</th><td>Lypla1</td><td>NC_000067.7;NC_000067.7;NC_000067.7;NC_000067.7;NC_000067.7;NC_000067.7;NC_000067.7;NC_000067.7;NC_000067.7;NC_000067.7;NC_000067.7;NC_000067.7;NC_000067.7;NC_000067.7;NC_000067.7;NC_000067.7;NC_000067.7                                                                                                                                                                                                                                                                                                                                                                                                                                                            </td><td>4878137;4878137;4878678;4878678;4898807;4898807;4900491;4900491;4902534;4902534;4907224;4907224;4909610;4911179;4911179;4915186;4915186                                                                                                                                                                                                                                                                                                        </td><td>4878205;4878205;4878709;4878709;4898872;4898872;4900538;4900538;4902604;4902604;4907297;4907297;4909711;4911355;4911355;4915236;4915236                                                                                                                                                                                                                                                                                                        </td><td>+;+;+;+;+;+;+;+;+;+;+;+;+;+;+;+;+                                                                          </td><td> 690</td><td> 436</td><td> 541</td><td> 393</td><td> 438</td><td>⋯</td><td> 265</td><td> 306</td><td> 309</td><td> 282</td><td> 483</td><td> 334</td><td> 516</td><td> 586</td><td> 490</td><td> 489</td></tr>\n",
              "\t<tr><th scope=row>6</th><td>Tcea1 </td><td>NC_000067.7;NC_000067.7;NC_000067.7;NC_000067.7;NC_000067.7;NC_000067.7;NC_000067.7;NC_000067.7;NC_000067.7;NC_000067.7;NC_000067.7;NC_000067.7;NC_000067.7;NC_000067.7;NC_000067.7;NC_000067.7;NC_000067.7;NC_000067.7;NC_000067.7;NC_000067.7;NC_000067.7;NC_000067.7;NC_000067.7;NC_000067.7;NC_000067.7;NC_000067.7;NC_000067.7;NC_000067.7;NC_000067.7;NC_000067.7                                                                                                                                                                                                                                                                                                </td><td>4928137;4928137;4928631;4937693;4937693;4937693;4948250;4948250;4948250;4956967;4956967;4956967;4959680;4959680;4959683;4960963;4960963;4960963;4962138;4962138;4962138;4963640;4963640;4963640;4965157;4965157;4965157;4966579;4966579;4966579                                                                                                                                                                                                </td><td>4928199;4928199;4928726;4937755;4937755;4937755;4948355;4948355;4948355;4957054;4957054;4957054;4959825;4959825;4959825;4961019;4961019;4961019;4962292;4962292;4962292;4963786;4963786;4963786;4965228;4965228;4965228;4966584;4966584;4966584                                                                                                                                                                                                </td><td>+;+;+;+;+;+;+;+;+;+;+;+;+;+;+;+;+;+;+;+;+;+;+;+;+;+;+;+;+;+                                                </td><td> 999</td><td>1557</td><td>1630</td><td>1245</td><td>1194</td><td>⋯</td><td>1243</td><td>1448</td><td>1069</td><td>1320</td><td>1390</td><td>1068</td><td>1541</td><td>1609</td><td>1446</td><td>1161</td></tr>\n",
              "</tbody>\n",
              "</table>\n"
            ],
            "text/markdown": "\nA data.frame: 6 × 24\n\n| <!--/--> | Geneid &lt;chr&gt; | Chr &lt;chr&gt; | Start &lt;chr&gt; | End &lt;chr&gt; | Strand &lt;chr&gt; | Length &lt;int&gt; | X.content.drive.MyDrive.RNAseq.bamfiles.HIP_PC10_sorted.bam &lt;int&gt; | X.content.drive.MyDrive.RNAseq.bamfiles.HIP_PC30_sorted.bam &lt;int&gt; | X.content.drive.MyDrive.RNAseq.bamfiles.HIP_PV_sorted.bam &lt;int&gt; | X.content.drive.MyDrive.RNAseq.bamfiles.HIP_SC10_sorted.bam &lt;int&gt; | ⋯ ⋯ | X.content.drive.MyDrive.RNAseq.bamfiles.NAc_PV_sorted.bam &lt;int&gt; | X.content.drive.MyDrive.RNAseq.bamfiles.NAc_SC10_sorted.bam &lt;int&gt; | X.content.drive.MyDrive.RNAseq.bamfiles.NAc_SC30_sorted.bam &lt;int&gt; | X.content.drive.MyDrive.RNAseq.bamfiles.NAc_SV_sorted.bam &lt;int&gt; | X.content.drive.MyDrive.RNAseq.bamfiles.PFC_PC10_sorted.bam &lt;int&gt; | X.content.drive.MyDrive.RNAseq.bamfiles.PFC_PC30_sorted.bam &lt;int&gt; | X.content.drive.MyDrive.RNAseq.bamfiles.PFC_PV_sorted.bam &lt;int&gt; | X.content.drive.MyDrive.RNAseq.bamfiles.PFC_SC10_sorted.bam &lt;int&gt; | X.content.drive.MyDrive.RNAseq.bamfiles.PFC_SC30_sorted.bam &lt;int&gt; | X.content.drive.MyDrive.RNAseq.bamfiles.PFC_SV_sorted.bam &lt;int&gt; |\n|---|---|---|---|---|---|---|---|---|---|---|---|---|---|---|---|---|---|---|---|---|---|\n| 1 | Xkr4   | NC_000067.7;NC_000067.7;NC_000067.7;NC_000067.7;NC_000067.7;NC_000067.7;NC_000067.7;NC_000067.7;NC_000067.7;NC_000067.7;NC_000067.7;NC_000067.7                                                                                                                                                                                                                                                                                                                                                                                                                                                                                                                         | 3286248;3286248;3393973;3422511;3491925;3491925;3491925;3491925;3740775;3740775;3740775;3740775                                                                                                                                                                                                                                                                                                                                                 | 3287191;3287191;3393983;3422536;3492124;3492124;3492124;3492124;3741571;3741571;3741571;3741571                                                                                                                                                                                                                                                                                                                                                 | -;-;-;-;-;-;-;-;-;-;-;-                                                                                     | 1978 |  297 |  294 |  179 |  184 | ⋯ |   94 |  130 |  147 |   88 |  184 |  121 |  184 |  172 |  225 |  194 |\n| 2 | Rp1    | NC_000067.7;NC_000067.7;NC_000067.7;NC_000067.7;NC_000067.7;NC_000067.7;NC_000067.7;NC_000067.7;NC_000067.7;NC_000067.7;NC_000067.7;NC_000067.7;NC_000067.7;NC_000067.7;NC_000067.7;NC_000067.7;NC_000067.7;NC_000067.7;NC_000067.7;NC_000067.7;NC_000067.7;NC_000067.7;NC_000067.7;NC_000067.7;NC_000067.7;NC_000067.7;NC_000067.7;NC_000067.7;NC_000067.7;NC_000067.7;NC_000067.7;NC_000067.7;NC_000067.7;NC_000067.7;NC_000067.7;NC_000067.7;NC_000067.7;NC_000067.7;NC_000067.7;NC_000067.7;NC_000067.7;NC_000067.7;NC_000067.7;NC_000067.7;NC_000067.7;NC_000067.7;NC_000067.7;NC_000067.7;NC_000067.7;NC_000067.7;NC_000067.7;NC_000067.7;NC_000067.7;NC_000067.7 | 4186161;4189891;4190230;4190238;4212835;4212835;4218035;4218035;4218835;4218835;4234078;4234078;4240428;4240428;4267757;4267757;4276883;4276883;4296834;4296834;4298666;4298666;4301276;4301276;4313356;4313356;4313640;4313640;4313766;4313766;4315254;4315254;4331750;4331750;4337692;4337692;4354989;4354989;4363149;4363149;4363207;4381493;4381493;4414826;4422133;4422133;4422133;4422133;4422425;4422425;4422425;4422425;4479393;4479393 | 4186171;4189935;4190296;4190296;4212989;4212989;4218186;4218186;4218967;4218967;4234164;4234164;4240627;4240627;4267864;4267864;4277060;4277060;4297046;4297046;4298842;4298842;4301367;4301367;4313485;4313485;4313671;4313671;4313842;4313842;4315329;4315329;4331828;4331828;4337843;4337843;4355121;4355121;4363235;4363235;4363235;4381656;4381656;4420314;4422304;4422304;4422304;4422304;4423060;4423048;4423048;4423060;4479410;4479410 | -;-;-;-;-;-;-;-;-;-;-;-;-;-;-;-;-;-;-;-;-;-;-;-;-;-;-;-;-;-;-;-;-;-;-;-;-;-;-;-;-;-;-;-;-;-;-;-;-;-;-;-;-;- | 8863 |    4 |    7 |    2 |    6 | ⋯ |    8 |    2 |    0 |   16 |    0 |    6 |    0 |    6 |    2 |    0 |\n| 3 | Sox17  | NC_000067.7;NC_000067.7;NC_000067.7;NC_000067.7;NC_000067.7;NC_000067.7;NC_000067.7;NC_000067.7;NC_000067.7;NC_000067.7;NC_000067.7;NC_000067.7;NC_000067.7;NC_000067.7;NC_000067.7;NC_000067.7;NC_000067.7;NC_000067.7;NC_000067.7;NC_000067.7;NC_000067.7                                                                                                                                                                                                                                                                                                                                                                                                             | 4561942;4561942;4561942;4561942;4561942;4561942;4561942;4561942;4561942;4561942;4563323;4563323;4563323;4563323;4563323;4563323;4563995;4563995;4565359;4565359;4565359                                                                                                                                                                                                                                                                         | 4562891;4562891;4562891;4562891;4562891;4562891;4562891;4562814;4562891;4562891;4563629;4563629;4563629;4563629;4563629;4563629;4564086;4564086;4565368;4565378;4565378                                                                                                                                                                                                                                                                         | -;-;-;-;-;-;-;-;-;-;-;-;-;-;-;-;-;-;-;-;-                                                                   | 1369 |  120 |  138 |   81 |  113 | ⋯ |  129 |  184 |  159 |  142 |  176 |  119 |  115 |  117 |  163 |  145 |\n| 4 | Mrpl15 | NC_000067.7;NC_000067.7;NC_000067.7;NC_000067.7;NC_000067.7;NC_000067.7;NC_000067.7;NC_000067.7;NC_000067.7;NC_000067.7;NC_000067.7;NC_000067.7;NC_000067.7;NC_000067.7                                                                                                                                                                                                                                                                                                                                                                                                                                                                                                 | 4844678;4846690;4847748;4847748;4852447;4852791;4852791;4852791;4854174;4854174;4854174;4855796;4855796;4855796                                                                                                                                                                                                                                                                                                                                 | 4844739;4847024;4847871;4847871;4852524;4852956;4852956;4852956;4854328;4854328;4854328;4855900;4855900;4855900                                                                                                                                                                                                                                                                                                                                 | -;-;-;-;-;-;-;-;-;-;-;-;-;-                                                                                 | 1025 | 1347 | 1427 |  976 | 1252 | ⋯ | 1026 | 1415 | 1062 |  986 | 1129 |  923 | 1306 | 1344 | 1183 |  982 |\n| 5 | Lypla1 | NC_000067.7;NC_000067.7;NC_000067.7;NC_000067.7;NC_000067.7;NC_000067.7;NC_000067.7;NC_000067.7;NC_000067.7;NC_000067.7;NC_000067.7;NC_000067.7;NC_000067.7;NC_000067.7;NC_000067.7;NC_000067.7;NC_000067.7                                                                                                                                                                                                                                                                                                                                                                                                                                                             | 4878137;4878137;4878678;4878678;4898807;4898807;4900491;4900491;4902534;4902534;4907224;4907224;4909610;4911179;4911179;4915186;4915186                                                                                                                                                                                                                                                                                                         | 4878205;4878205;4878709;4878709;4898872;4898872;4900538;4900538;4902604;4902604;4907297;4907297;4909711;4911355;4911355;4915236;4915236                                                                                                                                                                                                                                                                                                         | +;+;+;+;+;+;+;+;+;+;+;+;+;+;+;+;+                                                                           |  690 |  436 |  541 |  393 |  438 | ⋯ |  265 |  306 |  309 |  282 |  483 |  334 |  516 |  586 |  490 |  489 |\n| 6 | Tcea1  | NC_000067.7;NC_000067.7;NC_000067.7;NC_000067.7;NC_000067.7;NC_000067.7;NC_000067.7;NC_000067.7;NC_000067.7;NC_000067.7;NC_000067.7;NC_000067.7;NC_000067.7;NC_000067.7;NC_000067.7;NC_000067.7;NC_000067.7;NC_000067.7;NC_000067.7;NC_000067.7;NC_000067.7;NC_000067.7;NC_000067.7;NC_000067.7;NC_000067.7;NC_000067.7;NC_000067.7;NC_000067.7;NC_000067.7;NC_000067.7                                                                                                                                                                                                                                                                                                 | 4928137;4928137;4928631;4937693;4937693;4937693;4948250;4948250;4948250;4956967;4956967;4956967;4959680;4959680;4959683;4960963;4960963;4960963;4962138;4962138;4962138;4963640;4963640;4963640;4965157;4965157;4965157;4966579;4966579;4966579                                                                                                                                                                                                 | 4928199;4928199;4928726;4937755;4937755;4937755;4948355;4948355;4948355;4957054;4957054;4957054;4959825;4959825;4959825;4961019;4961019;4961019;4962292;4962292;4962292;4963786;4963786;4963786;4965228;4965228;4965228;4966584;4966584;4966584                                                                                                                                                                                                 | +;+;+;+;+;+;+;+;+;+;+;+;+;+;+;+;+;+;+;+;+;+;+;+;+;+;+;+;+;+                                                 |  999 | 1557 | 1630 | 1245 | 1194 | ⋯ | 1243 | 1448 | 1069 | 1320 | 1390 | 1068 | 1541 | 1609 | 1446 | 1161 |\n\n",
            "text/latex": "A data.frame: 6 × 24\n\\begin{tabular}{r|lllllllllllllllllllll}\n  & Geneid & Chr & Start & End & Strand & Length & X.content.drive.MyDrive.RNAseq.bamfiles.HIP\\_PC10\\_sorted.bam & X.content.drive.MyDrive.RNAseq.bamfiles.HIP\\_PC30\\_sorted.bam & X.content.drive.MyDrive.RNAseq.bamfiles.HIP\\_PV\\_sorted.bam & X.content.drive.MyDrive.RNAseq.bamfiles.HIP\\_SC10\\_sorted.bam & ⋯ & X.content.drive.MyDrive.RNAseq.bamfiles.NAc\\_PV\\_sorted.bam & X.content.drive.MyDrive.RNAseq.bamfiles.NAc\\_SC10\\_sorted.bam & X.content.drive.MyDrive.RNAseq.bamfiles.NAc\\_SC30\\_sorted.bam & X.content.drive.MyDrive.RNAseq.bamfiles.NAc\\_SV\\_sorted.bam & X.content.drive.MyDrive.RNAseq.bamfiles.PFC\\_PC10\\_sorted.bam & X.content.drive.MyDrive.RNAseq.bamfiles.PFC\\_PC30\\_sorted.bam & X.content.drive.MyDrive.RNAseq.bamfiles.PFC\\_PV\\_sorted.bam & X.content.drive.MyDrive.RNAseq.bamfiles.PFC\\_SC10\\_sorted.bam & X.content.drive.MyDrive.RNAseq.bamfiles.PFC\\_SC30\\_sorted.bam & X.content.drive.MyDrive.RNAseq.bamfiles.PFC\\_SV\\_sorted.bam\\\\\n  & <chr> & <chr> & <chr> & <chr> & <chr> & <int> & <int> & <int> & <int> & <int> & ⋯ & <int> & <int> & <int> & <int> & <int> & <int> & <int> & <int> & <int> & <int>\\\\\n\\hline\n\t1 & Xkr4   & NC\\_000067.7;NC\\_000067.7;NC\\_000067.7;NC\\_000067.7;NC\\_000067.7;NC\\_000067.7;NC\\_000067.7;NC\\_000067.7;NC\\_000067.7;NC\\_000067.7;NC\\_000067.7;NC\\_000067.7                                                                                                                                                                                                                                                                                                                                                                                                                                                                                                                         & 3286248;3286248;3393973;3422511;3491925;3491925;3491925;3491925;3740775;3740775;3740775;3740775                                                                                                                                                                                                                                                                                                                                                 & 3287191;3287191;3393983;3422536;3492124;3492124;3492124;3492124;3741571;3741571;3741571;3741571                                                                                                                                                                                                                                                                                                                                                 & -;-;-;-;-;-;-;-;-;-;-;-                                                                                     & 1978 &  297 &  294 &  179 &  184 & ⋯ &   94 &  130 &  147 &   88 &  184 &  121 &  184 &  172 &  225 &  194\\\\\n\t2 & Rp1    & NC\\_000067.7;NC\\_000067.7;NC\\_000067.7;NC\\_000067.7;NC\\_000067.7;NC\\_000067.7;NC\\_000067.7;NC\\_000067.7;NC\\_000067.7;NC\\_000067.7;NC\\_000067.7;NC\\_000067.7;NC\\_000067.7;NC\\_000067.7;NC\\_000067.7;NC\\_000067.7;NC\\_000067.7;NC\\_000067.7;NC\\_000067.7;NC\\_000067.7;NC\\_000067.7;NC\\_000067.7;NC\\_000067.7;NC\\_000067.7;NC\\_000067.7;NC\\_000067.7;NC\\_000067.7;NC\\_000067.7;NC\\_000067.7;NC\\_000067.7;NC\\_000067.7;NC\\_000067.7;NC\\_000067.7;NC\\_000067.7;NC\\_000067.7;NC\\_000067.7;NC\\_000067.7;NC\\_000067.7;NC\\_000067.7;NC\\_000067.7;NC\\_000067.7;NC\\_000067.7;NC\\_000067.7;NC\\_000067.7;NC\\_000067.7;NC\\_000067.7;NC\\_000067.7;NC\\_000067.7;NC\\_000067.7;NC\\_000067.7;NC\\_000067.7;NC\\_000067.7;NC\\_000067.7;NC\\_000067.7 & 4186161;4189891;4190230;4190238;4212835;4212835;4218035;4218035;4218835;4218835;4234078;4234078;4240428;4240428;4267757;4267757;4276883;4276883;4296834;4296834;4298666;4298666;4301276;4301276;4313356;4313356;4313640;4313640;4313766;4313766;4315254;4315254;4331750;4331750;4337692;4337692;4354989;4354989;4363149;4363149;4363207;4381493;4381493;4414826;4422133;4422133;4422133;4422133;4422425;4422425;4422425;4422425;4479393;4479393 & 4186171;4189935;4190296;4190296;4212989;4212989;4218186;4218186;4218967;4218967;4234164;4234164;4240627;4240627;4267864;4267864;4277060;4277060;4297046;4297046;4298842;4298842;4301367;4301367;4313485;4313485;4313671;4313671;4313842;4313842;4315329;4315329;4331828;4331828;4337843;4337843;4355121;4355121;4363235;4363235;4363235;4381656;4381656;4420314;4422304;4422304;4422304;4422304;4423060;4423048;4423048;4423060;4479410;4479410 & -;-;-;-;-;-;-;-;-;-;-;-;-;-;-;-;-;-;-;-;-;-;-;-;-;-;-;-;-;-;-;-;-;-;-;-;-;-;-;-;-;-;-;-;-;-;-;-;-;-;-;-;-;- & 8863 &    4 &    7 &    2 &    6 & ⋯ &    8 &    2 &    0 &   16 &    0 &    6 &    0 &    6 &    2 &    0\\\\\n\t3 & Sox17  & NC\\_000067.7;NC\\_000067.7;NC\\_000067.7;NC\\_000067.7;NC\\_000067.7;NC\\_000067.7;NC\\_000067.7;NC\\_000067.7;NC\\_000067.7;NC\\_000067.7;NC\\_000067.7;NC\\_000067.7;NC\\_000067.7;NC\\_000067.7;NC\\_000067.7;NC\\_000067.7;NC\\_000067.7;NC\\_000067.7;NC\\_000067.7;NC\\_000067.7;NC\\_000067.7                                                                                                                                                                                                                                                                                                                                                                                                             & 4561942;4561942;4561942;4561942;4561942;4561942;4561942;4561942;4561942;4561942;4563323;4563323;4563323;4563323;4563323;4563323;4563995;4563995;4565359;4565359;4565359                                                                                                                                                                                                                                                                         & 4562891;4562891;4562891;4562891;4562891;4562891;4562891;4562814;4562891;4562891;4563629;4563629;4563629;4563629;4563629;4563629;4564086;4564086;4565368;4565378;4565378                                                                                                                                                                                                                                                                         & -;-;-;-;-;-;-;-;-;-;-;-;-;-;-;-;-;-;-;-;-                                                                   & 1369 &  120 &  138 &   81 &  113 & ⋯ &  129 &  184 &  159 &  142 &  176 &  119 &  115 &  117 &  163 &  145\\\\\n\t4 & Mrpl15 & NC\\_000067.7;NC\\_000067.7;NC\\_000067.7;NC\\_000067.7;NC\\_000067.7;NC\\_000067.7;NC\\_000067.7;NC\\_000067.7;NC\\_000067.7;NC\\_000067.7;NC\\_000067.7;NC\\_000067.7;NC\\_000067.7;NC\\_000067.7                                                                                                                                                                                                                                                                                                                                                                                                                                                                                                 & 4844678;4846690;4847748;4847748;4852447;4852791;4852791;4852791;4854174;4854174;4854174;4855796;4855796;4855796                                                                                                                                                                                                                                                                                                                                 & 4844739;4847024;4847871;4847871;4852524;4852956;4852956;4852956;4854328;4854328;4854328;4855900;4855900;4855900                                                                                                                                                                                                                                                                                                                                 & -;-;-;-;-;-;-;-;-;-;-;-;-;-                                                                                 & 1025 & 1347 & 1427 &  976 & 1252 & ⋯ & 1026 & 1415 & 1062 &  986 & 1129 &  923 & 1306 & 1344 & 1183 &  982\\\\\n\t5 & Lypla1 & NC\\_000067.7;NC\\_000067.7;NC\\_000067.7;NC\\_000067.7;NC\\_000067.7;NC\\_000067.7;NC\\_000067.7;NC\\_000067.7;NC\\_000067.7;NC\\_000067.7;NC\\_000067.7;NC\\_000067.7;NC\\_000067.7;NC\\_000067.7;NC\\_000067.7;NC\\_000067.7;NC\\_000067.7                                                                                                                                                                                                                                                                                                                                                                                                                                                             & 4878137;4878137;4878678;4878678;4898807;4898807;4900491;4900491;4902534;4902534;4907224;4907224;4909610;4911179;4911179;4915186;4915186                                                                                                                                                                                                                                                                                                         & 4878205;4878205;4878709;4878709;4898872;4898872;4900538;4900538;4902604;4902604;4907297;4907297;4909711;4911355;4911355;4915236;4915236                                                                                                                                                                                                                                                                                                         & +;+;+;+;+;+;+;+;+;+;+;+;+;+;+;+;+                                                                           &  690 &  436 &  541 &  393 &  438 & ⋯ &  265 &  306 &  309 &  282 &  483 &  334 &  516 &  586 &  490 &  489\\\\\n\t6 & Tcea1  & NC\\_000067.7;NC\\_000067.7;NC\\_000067.7;NC\\_000067.7;NC\\_000067.7;NC\\_000067.7;NC\\_000067.7;NC\\_000067.7;NC\\_000067.7;NC\\_000067.7;NC\\_000067.7;NC\\_000067.7;NC\\_000067.7;NC\\_000067.7;NC\\_000067.7;NC\\_000067.7;NC\\_000067.7;NC\\_000067.7;NC\\_000067.7;NC\\_000067.7;NC\\_000067.7;NC\\_000067.7;NC\\_000067.7;NC\\_000067.7;NC\\_000067.7;NC\\_000067.7;NC\\_000067.7;NC\\_000067.7;NC\\_000067.7;NC\\_000067.7                                                                                                                                                                                                                                                                                                 & 4928137;4928137;4928631;4937693;4937693;4937693;4948250;4948250;4948250;4956967;4956967;4956967;4959680;4959680;4959683;4960963;4960963;4960963;4962138;4962138;4962138;4963640;4963640;4963640;4965157;4965157;4965157;4966579;4966579;4966579                                                                                                                                                                                                 & 4928199;4928199;4928726;4937755;4937755;4937755;4948355;4948355;4948355;4957054;4957054;4957054;4959825;4959825;4959825;4961019;4961019;4961019;4962292;4962292;4962292;4963786;4963786;4963786;4965228;4965228;4965228;4966584;4966584;4966584                                                                                                                                                                                                 & +;+;+;+;+;+;+;+;+;+;+;+;+;+;+;+;+;+;+;+;+;+;+;+;+;+;+;+;+;+                                                 &  999 & 1557 & 1630 & 1245 & 1194 & ⋯ & 1243 & 1448 & 1069 & 1320 & 1390 & 1068 & 1541 & 1609 & 1446 & 1161\\\\\n\\end{tabular}\n",
            "text/plain": [
              "  Geneid\n",
              "1 Xkr4  \n",
              "2 Rp1   \n",
              "3 Sox17 \n",
              "4 Mrpl15\n",
              "5 Lypla1\n",
              "6 Tcea1 \n",
              "  Chr                                                                                                                                                                                                                                                                                                                                                                                                                                                                                                                                                                                                                                                                    \n",
              "1 NC_000067.7;NC_000067.7;NC_000067.7;NC_000067.7;NC_000067.7;NC_000067.7;NC_000067.7;NC_000067.7;NC_000067.7;NC_000067.7;NC_000067.7;NC_000067.7                                                                                                                                                                                                                                                                                                                                                                                                                                                                                                                        \n",
              "2 NC_000067.7;NC_000067.7;NC_000067.7;NC_000067.7;NC_000067.7;NC_000067.7;NC_000067.7;NC_000067.7;NC_000067.7;NC_000067.7;NC_000067.7;NC_000067.7;NC_000067.7;NC_000067.7;NC_000067.7;NC_000067.7;NC_000067.7;NC_000067.7;NC_000067.7;NC_000067.7;NC_000067.7;NC_000067.7;NC_000067.7;NC_000067.7;NC_000067.7;NC_000067.7;NC_000067.7;NC_000067.7;NC_000067.7;NC_000067.7;NC_000067.7;NC_000067.7;NC_000067.7;NC_000067.7;NC_000067.7;NC_000067.7;NC_000067.7;NC_000067.7;NC_000067.7;NC_000067.7;NC_000067.7;NC_000067.7;NC_000067.7;NC_000067.7;NC_000067.7;NC_000067.7;NC_000067.7;NC_000067.7;NC_000067.7;NC_000067.7;NC_000067.7;NC_000067.7;NC_000067.7;NC_000067.7\n",
              "3 NC_000067.7;NC_000067.7;NC_000067.7;NC_000067.7;NC_000067.7;NC_000067.7;NC_000067.7;NC_000067.7;NC_000067.7;NC_000067.7;NC_000067.7;NC_000067.7;NC_000067.7;NC_000067.7;NC_000067.7;NC_000067.7;NC_000067.7;NC_000067.7;NC_000067.7;NC_000067.7;NC_000067.7                                                                                                                                                                                                                                                                                                                                                                                                            \n",
              "4 NC_000067.7;NC_000067.7;NC_000067.7;NC_000067.7;NC_000067.7;NC_000067.7;NC_000067.7;NC_000067.7;NC_000067.7;NC_000067.7;NC_000067.7;NC_000067.7;NC_000067.7;NC_000067.7                                                                                                                                                                                                                                                                                                                                                                                                                                                                                                \n",
              "5 NC_000067.7;NC_000067.7;NC_000067.7;NC_000067.7;NC_000067.7;NC_000067.7;NC_000067.7;NC_000067.7;NC_000067.7;NC_000067.7;NC_000067.7;NC_000067.7;NC_000067.7;NC_000067.7;NC_000067.7;NC_000067.7;NC_000067.7                                                                                                                                                                                                                                                                                                                                                                                                                                                            \n",
              "6 NC_000067.7;NC_000067.7;NC_000067.7;NC_000067.7;NC_000067.7;NC_000067.7;NC_000067.7;NC_000067.7;NC_000067.7;NC_000067.7;NC_000067.7;NC_000067.7;NC_000067.7;NC_000067.7;NC_000067.7;NC_000067.7;NC_000067.7;NC_000067.7;NC_000067.7;NC_000067.7;NC_000067.7;NC_000067.7;NC_000067.7;NC_000067.7;NC_000067.7;NC_000067.7;NC_000067.7;NC_000067.7;NC_000067.7;NC_000067.7                                                                                                                                                                                                                                                                                                \n",
              "  Start                                                                                                                                                                                                                                                                                                                                                                                                                                          \n",
              "1 3286248;3286248;3393973;3422511;3491925;3491925;3491925;3491925;3740775;3740775;3740775;3740775                                                                                                                                                                                                                                                                                                                                                \n",
              "2 4186161;4189891;4190230;4190238;4212835;4212835;4218035;4218035;4218835;4218835;4234078;4234078;4240428;4240428;4267757;4267757;4276883;4276883;4296834;4296834;4298666;4298666;4301276;4301276;4313356;4313356;4313640;4313640;4313766;4313766;4315254;4315254;4331750;4331750;4337692;4337692;4354989;4354989;4363149;4363149;4363207;4381493;4381493;4414826;4422133;4422133;4422133;4422133;4422425;4422425;4422425;4422425;4479393;4479393\n",
              "3 4561942;4561942;4561942;4561942;4561942;4561942;4561942;4561942;4561942;4561942;4563323;4563323;4563323;4563323;4563323;4563323;4563995;4563995;4565359;4565359;4565359                                                                                                                                                                                                                                                                        \n",
              "4 4844678;4846690;4847748;4847748;4852447;4852791;4852791;4852791;4854174;4854174;4854174;4855796;4855796;4855796                                                                                                                                                                                                                                                                                                                                \n",
              "5 4878137;4878137;4878678;4878678;4898807;4898807;4900491;4900491;4902534;4902534;4907224;4907224;4909610;4911179;4911179;4915186;4915186                                                                                                                                                                                                                                                                                                        \n",
              "6 4928137;4928137;4928631;4937693;4937693;4937693;4948250;4948250;4948250;4956967;4956967;4956967;4959680;4959680;4959683;4960963;4960963;4960963;4962138;4962138;4962138;4963640;4963640;4963640;4965157;4965157;4965157;4966579;4966579;4966579                                                                                                                                                                                                \n",
              "  End                                                                                                                                                                                                                                                                                                                                                                                                                                            \n",
              "1 3287191;3287191;3393983;3422536;3492124;3492124;3492124;3492124;3741571;3741571;3741571;3741571                                                                                                                                                                                                                                                                                                                                                \n",
              "2 4186171;4189935;4190296;4190296;4212989;4212989;4218186;4218186;4218967;4218967;4234164;4234164;4240627;4240627;4267864;4267864;4277060;4277060;4297046;4297046;4298842;4298842;4301367;4301367;4313485;4313485;4313671;4313671;4313842;4313842;4315329;4315329;4331828;4331828;4337843;4337843;4355121;4355121;4363235;4363235;4363235;4381656;4381656;4420314;4422304;4422304;4422304;4422304;4423060;4423048;4423048;4423060;4479410;4479410\n",
              "3 4562891;4562891;4562891;4562891;4562891;4562891;4562891;4562814;4562891;4562891;4563629;4563629;4563629;4563629;4563629;4563629;4564086;4564086;4565368;4565378;4565378                                                                                                                                                                                                                                                                        \n",
              "4 4844739;4847024;4847871;4847871;4852524;4852956;4852956;4852956;4854328;4854328;4854328;4855900;4855900;4855900                                                                                                                                                                                                                                                                                                                                \n",
              "5 4878205;4878205;4878709;4878709;4898872;4898872;4900538;4900538;4902604;4902604;4907297;4907297;4909711;4911355;4911355;4915236;4915236                                                                                                                                                                                                                                                                                                        \n",
              "6 4928199;4928199;4928726;4937755;4937755;4937755;4948355;4948355;4948355;4957054;4957054;4957054;4959825;4959825;4959825;4961019;4961019;4961019;4962292;4962292;4962292;4963786;4963786;4963786;4965228;4965228;4965228;4966584;4966584;4966584                                                                                                                                                                                                \n",
              "  Strand                                                                                                     \n",
              "1 -;-;-;-;-;-;-;-;-;-;-;-                                                                                    \n",
              "2 -;-;-;-;-;-;-;-;-;-;-;-;-;-;-;-;-;-;-;-;-;-;-;-;-;-;-;-;-;-;-;-;-;-;-;-;-;-;-;-;-;-;-;-;-;-;-;-;-;-;-;-;-;-\n",
              "3 -;-;-;-;-;-;-;-;-;-;-;-;-;-;-;-;-;-;-;-;-                                                                  \n",
              "4 -;-;-;-;-;-;-;-;-;-;-;-;-;-                                                                                \n",
              "5 +;+;+;+;+;+;+;+;+;+;+;+;+;+;+;+;+                                                                          \n",
              "6 +;+;+;+;+;+;+;+;+;+;+;+;+;+;+;+;+;+;+;+;+;+;+;+;+;+;+;+;+;+                                                \n",
              "  Length X.content.drive.MyDrive.RNAseq.bamfiles.HIP_PC10_sorted.bam\n",
              "1 1978    297                                                       \n",
              "2 8863      4                                                       \n",
              "3 1369    120                                                       \n",
              "4 1025   1347                                                       \n",
              "5  690    436                                                       \n",
              "6  999   1557                                                       \n",
              "  X.content.drive.MyDrive.RNAseq.bamfiles.HIP_PC30_sorted.bam\n",
              "1  294                                                       \n",
              "2    7                                                       \n",
              "3  138                                                       \n",
              "4 1427                                                       \n",
              "5  541                                                       \n",
              "6 1630                                                       \n",
              "  X.content.drive.MyDrive.RNAseq.bamfiles.HIP_PV_sorted.bam\n",
              "1  179                                                     \n",
              "2    2                                                     \n",
              "3   81                                                     \n",
              "4  976                                                     \n",
              "5  393                                                     \n",
              "6 1245                                                     \n",
              "  X.content.drive.MyDrive.RNAseq.bamfiles.HIP_SC10_sorted.bam ⋯\n",
              "1  184                                                        ⋯\n",
              "2    6                                                        ⋯\n",
              "3  113                                                        ⋯\n",
              "4 1252                                                        ⋯\n",
              "5  438                                                        ⋯\n",
              "6 1194                                                        ⋯\n",
              "  X.content.drive.MyDrive.RNAseq.bamfiles.NAc_PV_sorted.bam\n",
              "1   94                                                     \n",
              "2    8                                                     \n",
              "3  129                                                     \n",
              "4 1026                                                     \n",
              "5  265                                                     \n",
              "6 1243                                                     \n",
              "  X.content.drive.MyDrive.RNAseq.bamfiles.NAc_SC10_sorted.bam\n",
              "1  130                                                       \n",
              "2    2                                                       \n",
              "3  184                                                       \n",
              "4 1415                                                       \n",
              "5  306                                                       \n",
              "6 1448                                                       \n",
              "  X.content.drive.MyDrive.RNAseq.bamfiles.NAc_SC30_sorted.bam\n",
              "1  147                                                       \n",
              "2    0                                                       \n",
              "3  159                                                       \n",
              "4 1062                                                       \n",
              "5  309                                                       \n",
              "6 1069                                                       \n",
              "  X.content.drive.MyDrive.RNAseq.bamfiles.NAc_SV_sorted.bam\n",
              "1   88                                                     \n",
              "2   16                                                     \n",
              "3  142                                                     \n",
              "4  986                                                     \n",
              "5  282                                                     \n",
              "6 1320                                                     \n",
              "  X.content.drive.MyDrive.RNAseq.bamfiles.PFC_PC10_sorted.bam\n",
              "1  184                                                       \n",
              "2    0                                                       \n",
              "3  176                                                       \n",
              "4 1129                                                       \n",
              "5  483                                                       \n",
              "6 1390                                                       \n",
              "  X.content.drive.MyDrive.RNAseq.bamfiles.PFC_PC30_sorted.bam\n",
              "1  121                                                       \n",
              "2    6                                                       \n",
              "3  119                                                       \n",
              "4  923                                                       \n",
              "5  334                                                       \n",
              "6 1068                                                       \n",
              "  X.content.drive.MyDrive.RNAseq.bamfiles.PFC_PV_sorted.bam\n",
              "1  184                                                     \n",
              "2    0                                                     \n",
              "3  115                                                     \n",
              "4 1306                                                     \n",
              "5  516                                                     \n",
              "6 1541                                                     \n",
              "  X.content.drive.MyDrive.RNAseq.bamfiles.PFC_SC10_sorted.bam\n",
              "1  172                                                       \n",
              "2    6                                                       \n",
              "3  117                                                       \n",
              "4 1344                                                       \n",
              "5  586                                                       \n",
              "6 1609                                                       \n",
              "  X.content.drive.MyDrive.RNAseq.bamfiles.PFC_SC30_sorted.bam\n",
              "1  225                                                       \n",
              "2    2                                                       \n",
              "3  163                                                       \n",
              "4 1183                                                       \n",
              "5  490                                                       \n",
              "6 1446                                                       \n",
              "  X.content.drive.MyDrive.RNAseq.bamfiles.PFC_SV_sorted.bam\n",
              "1  194                                                     \n",
              "2    0                                                     \n",
              "3  145                                                     \n",
              "4  982                                                     \n",
              "5  489                                                     \n",
              "6 1161                                                     "
            ]
          },
          "metadata": {}
        },
        {
          "output_type": "stream",
          "name": "stdout",
          "text": [
            "[1] \"処理後\"\n"
          ]
        },
        {
          "output_type": "display_data",
          "data": {
            "text/html": [
              "<table class=\"dataframe\">\n",
              "<caption>A data.frame: 6 × 19</caption>\n",
              "<thead>\n",
              "\t<tr><th></th><th scope=col>Geneid</th><th scope=col>X.content.drive.MyDrive.RNAseq.bamfiles.HIP_PC10_sorted.bam</th><th scope=col>X.content.drive.MyDrive.RNAseq.bamfiles.HIP_PC30_sorted.bam</th><th scope=col>X.content.drive.MyDrive.RNAseq.bamfiles.HIP_PV_sorted.bam</th><th scope=col>X.content.drive.MyDrive.RNAseq.bamfiles.HIP_SC10_sorted.bam</th><th scope=col>X.content.drive.MyDrive.RNAseq.bamfiles.HIP_SC30_sorted.bam</th><th scope=col>X.content.drive.MyDrive.RNAseq.bamfiles.HIP_SV_sorted.bam</th><th scope=col>X.content.drive.MyDrive.RNAseq.bamfiles.NAc_PC10_sorted.bam</th><th scope=col>X.content.drive.MyDrive.RNAseq.bamfiles.NAc_PC30_sorted.bam</th><th scope=col>X.content.drive.MyDrive.RNAseq.bamfiles.NAc_PV_sorted.bam</th><th scope=col>X.content.drive.MyDrive.RNAseq.bamfiles.NAc_SC10_sorted.bam</th><th scope=col>X.content.drive.MyDrive.RNAseq.bamfiles.NAc_SC30_sorted.bam</th><th scope=col>X.content.drive.MyDrive.RNAseq.bamfiles.NAc_SV_sorted.bam</th><th scope=col>X.content.drive.MyDrive.RNAseq.bamfiles.PFC_PC10_sorted.bam</th><th scope=col>X.content.drive.MyDrive.RNAseq.bamfiles.PFC_PC30_sorted.bam</th><th scope=col>X.content.drive.MyDrive.RNAseq.bamfiles.PFC_PV_sorted.bam</th><th scope=col>X.content.drive.MyDrive.RNAseq.bamfiles.PFC_SC10_sorted.bam</th><th scope=col>X.content.drive.MyDrive.RNAseq.bamfiles.PFC_SC30_sorted.bam</th><th scope=col>X.content.drive.MyDrive.RNAseq.bamfiles.PFC_SV_sorted.bam</th></tr>\n",
              "\t<tr><th></th><th scope=col>&lt;chr&gt;</th><th scope=col>&lt;int&gt;</th><th scope=col>&lt;int&gt;</th><th scope=col>&lt;int&gt;</th><th scope=col>&lt;int&gt;</th><th scope=col>&lt;int&gt;</th><th scope=col>&lt;int&gt;</th><th scope=col>&lt;int&gt;</th><th scope=col>&lt;int&gt;</th><th scope=col>&lt;int&gt;</th><th scope=col>&lt;int&gt;</th><th scope=col>&lt;int&gt;</th><th scope=col>&lt;int&gt;</th><th scope=col>&lt;int&gt;</th><th scope=col>&lt;int&gt;</th><th scope=col>&lt;int&gt;</th><th scope=col>&lt;int&gt;</th><th scope=col>&lt;int&gt;</th><th scope=col>&lt;int&gt;</th></tr>\n",
              "</thead>\n",
              "<tbody>\n",
              "\t<tr><th scope=row>1</th><td>Xkr4  </td><td> 297</td><td> 294</td><td> 179</td><td> 184</td><td> 229</td><td> 230</td><td> 173</td><td>  75</td><td>  94</td><td> 130</td><td> 147</td><td>  88</td><td> 184</td><td> 121</td><td> 184</td><td> 172</td><td> 225</td><td> 194</td></tr>\n",
              "\t<tr><th scope=row>2</th><td>Rp1   </td><td>   4</td><td>   7</td><td>   2</td><td>   6</td><td>   4</td><td>   6</td><td>   8</td><td>   2</td><td>   8</td><td>   2</td><td>   0</td><td>  16</td><td>   0</td><td>   6</td><td>   0</td><td>   6</td><td>   2</td><td>   0</td></tr>\n",
              "\t<tr><th scope=row>3</th><td>Sox17 </td><td> 120</td><td> 138</td><td>  81</td><td> 113</td><td> 108</td><td> 102</td><td> 129</td><td> 137</td><td> 129</td><td> 184</td><td> 159</td><td> 142</td><td> 176</td><td> 119</td><td> 115</td><td> 117</td><td> 163</td><td> 145</td></tr>\n",
              "\t<tr><th scope=row>4</th><td>Mrpl15</td><td>1347</td><td>1427</td><td> 976</td><td>1252</td><td>1076</td><td>1167</td><td>1207</td><td> 950</td><td>1026</td><td>1415</td><td>1062</td><td> 986</td><td>1129</td><td> 923</td><td>1306</td><td>1344</td><td>1183</td><td> 982</td></tr>\n",
              "\t<tr><th scope=row>5</th><td>Lypla1</td><td> 436</td><td> 541</td><td> 393</td><td> 438</td><td> 470</td><td> 510</td><td> 325</td><td> 319</td><td> 265</td><td> 306</td><td> 309</td><td> 282</td><td> 483</td><td> 334</td><td> 516</td><td> 586</td><td> 490</td><td> 489</td></tr>\n",
              "\t<tr><th scope=row>6</th><td>Tcea1 </td><td>1557</td><td>1630</td><td>1245</td><td>1194</td><td>1384</td><td>1392</td><td>1185</td><td>1058</td><td>1243</td><td>1448</td><td>1069</td><td>1320</td><td>1390</td><td>1068</td><td>1541</td><td>1609</td><td>1446</td><td>1161</td></tr>\n",
              "</tbody>\n",
              "</table>\n"
            ],
            "text/markdown": "\nA data.frame: 6 × 19\n\n| <!--/--> | Geneid &lt;chr&gt; | X.content.drive.MyDrive.RNAseq.bamfiles.HIP_PC10_sorted.bam &lt;int&gt; | X.content.drive.MyDrive.RNAseq.bamfiles.HIP_PC30_sorted.bam &lt;int&gt; | X.content.drive.MyDrive.RNAseq.bamfiles.HIP_PV_sorted.bam &lt;int&gt; | X.content.drive.MyDrive.RNAseq.bamfiles.HIP_SC10_sorted.bam &lt;int&gt; | X.content.drive.MyDrive.RNAseq.bamfiles.HIP_SC30_sorted.bam &lt;int&gt; | X.content.drive.MyDrive.RNAseq.bamfiles.HIP_SV_sorted.bam &lt;int&gt; | X.content.drive.MyDrive.RNAseq.bamfiles.NAc_PC10_sorted.bam &lt;int&gt; | X.content.drive.MyDrive.RNAseq.bamfiles.NAc_PC30_sorted.bam &lt;int&gt; | X.content.drive.MyDrive.RNAseq.bamfiles.NAc_PV_sorted.bam &lt;int&gt; | X.content.drive.MyDrive.RNAseq.bamfiles.NAc_SC10_sorted.bam &lt;int&gt; | X.content.drive.MyDrive.RNAseq.bamfiles.NAc_SC30_sorted.bam &lt;int&gt; | X.content.drive.MyDrive.RNAseq.bamfiles.NAc_SV_sorted.bam &lt;int&gt; | X.content.drive.MyDrive.RNAseq.bamfiles.PFC_PC10_sorted.bam &lt;int&gt; | X.content.drive.MyDrive.RNAseq.bamfiles.PFC_PC30_sorted.bam &lt;int&gt; | X.content.drive.MyDrive.RNAseq.bamfiles.PFC_PV_sorted.bam &lt;int&gt; | X.content.drive.MyDrive.RNAseq.bamfiles.PFC_SC10_sorted.bam &lt;int&gt; | X.content.drive.MyDrive.RNAseq.bamfiles.PFC_SC30_sorted.bam &lt;int&gt; | X.content.drive.MyDrive.RNAseq.bamfiles.PFC_SV_sorted.bam &lt;int&gt; |\n|---|---|---|---|---|---|---|---|---|---|---|---|---|---|---|---|---|---|---|---|\n| 1 | Xkr4   |  297 |  294 |  179 |  184 |  229 |  230 |  173 |   75 |   94 |  130 |  147 |   88 |  184 |  121 |  184 |  172 |  225 |  194 |\n| 2 | Rp1    |    4 |    7 |    2 |    6 |    4 |    6 |    8 |    2 |    8 |    2 |    0 |   16 |    0 |    6 |    0 |    6 |    2 |    0 |\n| 3 | Sox17  |  120 |  138 |   81 |  113 |  108 |  102 |  129 |  137 |  129 |  184 |  159 |  142 |  176 |  119 |  115 |  117 |  163 |  145 |\n| 4 | Mrpl15 | 1347 | 1427 |  976 | 1252 | 1076 | 1167 | 1207 |  950 | 1026 | 1415 | 1062 |  986 | 1129 |  923 | 1306 | 1344 | 1183 |  982 |\n| 5 | Lypla1 |  436 |  541 |  393 |  438 |  470 |  510 |  325 |  319 |  265 |  306 |  309 |  282 |  483 |  334 |  516 |  586 |  490 |  489 |\n| 6 | Tcea1  | 1557 | 1630 | 1245 | 1194 | 1384 | 1392 | 1185 | 1058 | 1243 | 1448 | 1069 | 1320 | 1390 | 1068 | 1541 | 1609 | 1446 | 1161 |\n\n",
            "text/latex": "A data.frame: 6 × 19\n\\begin{tabular}{r|lllllllllllllllllll}\n  & Geneid & X.content.drive.MyDrive.RNAseq.bamfiles.HIP\\_PC10\\_sorted.bam & X.content.drive.MyDrive.RNAseq.bamfiles.HIP\\_PC30\\_sorted.bam & X.content.drive.MyDrive.RNAseq.bamfiles.HIP\\_PV\\_sorted.bam & X.content.drive.MyDrive.RNAseq.bamfiles.HIP\\_SC10\\_sorted.bam & X.content.drive.MyDrive.RNAseq.bamfiles.HIP\\_SC30\\_sorted.bam & X.content.drive.MyDrive.RNAseq.bamfiles.HIP\\_SV\\_sorted.bam & X.content.drive.MyDrive.RNAseq.bamfiles.NAc\\_PC10\\_sorted.bam & X.content.drive.MyDrive.RNAseq.bamfiles.NAc\\_PC30\\_sorted.bam & X.content.drive.MyDrive.RNAseq.bamfiles.NAc\\_PV\\_sorted.bam & X.content.drive.MyDrive.RNAseq.bamfiles.NAc\\_SC10\\_sorted.bam & X.content.drive.MyDrive.RNAseq.bamfiles.NAc\\_SC30\\_sorted.bam & X.content.drive.MyDrive.RNAseq.bamfiles.NAc\\_SV\\_sorted.bam & X.content.drive.MyDrive.RNAseq.bamfiles.PFC\\_PC10\\_sorted.bam & X.content.drive.MyDrive.RNAseq.bamfiles.PFC\\_PC30\\_sorted.bam & X.content.drive.MyDrive.RNAseq.bamfiles.PFC\\_PV\\_sorted.bam & X.content.drive.MyDrive.RNAseq.bamfiles.PFC\\_SC10\\_sorted.bam & X.content.drive.MyDrive.RNAseq.bamfiles.PFC\\_SC30\\_sorted.bam & X.content.drive.MyDrive.RNAseq.bamfiles.PFC\\_SV\\_sorted.bam\\\\\n  & <chr> & <int> & <int> & <int> & <int> & <int> & <int> & <int> & <int> & <int> & <int> & <int> & <int> & <int> & <int> & <int> & <int> & <int> & <int>\\\\\n\\hline\n\t1 & Xkr4   &  297 &  294 &  179 &  184 &  229 &  230 &  173 &   75 &   94 &  130 &  147 &   88 &  184 &  121 &  184 &  172 &  225 &  194\\\\\n\t2 & Rp1    &    4 &    7 &    2 &    6 &    4 &    6 &    8 &    2 &    8 &    2 &    0 &   16 &    0 &    6 &    0 &    6 &    2 &    0\\\\\n\t3 & Sox17  &  120 &  138 &   81 &  113 &  108 &  102 &  129 &  137 &  129 &  184 &  159 &  142 &  176 &  119 &  115 &  117 &  163 &  145\\\\\n\t4 & Mrpl15 & 1347 & 1427 &  976 & 1252 & 1076 & 1167 & 1207 &  950 & 1026 & 1415 & 1062 &  986 & 1129 &  923 & 1306 & 1344 & 1183 &  982\\\\\n\t5 & Lypla1 &  436 &  541 &  393 &  438 &  470 &  510 &  325 &  319 &  265 &  306 &  309 &  282 &  483 &  334 &  516 &  586 &  490 &  489\\\\\n\t6 & Tcea1  & 1557 & 1630 & 1245 & 1194 & 1384 & 1392 & 1185 & 1058 & 1243 & 1448 & 1069 & 1320 & 1390 & 1068 & 1541 & 1609 & 1446 & 1161\\\\\n\\end{tabular}\n",
            "text/plain": [
              "  Geneid X.content.drive.MyDrive.RNAseq.bamfiles.HIP_PC10_sorted.bam\n",
              "1 Xkr4    297                                                       \n",
              "2 Rp1       4                                                       \n",
              "3 Sox17   120                                                       \n",
              "4 Mrpl15 1347                                                       \n",
              "5 Lypla1  436                                                       \n",
              "6 Tcea1  1557                                                       \n",
              "  X.content.drive.MyDrive.RNAseq.bamfiles.HIP_PC30_sorted.bam\n",
              "1  294                                                       \n",
              "2    7                                                       \n",
              "3  138                                                       \n",
              "4 1427                                                       \n",
              "5  541                                                       \n",
              "6 1630                                                       \n",
              "  X.content.drive.MyDrive.RNAseq.bamfiles.HIP_PV_sorted.bam\n",
              "1  179                                                     \n",
              "2    2                                                     \n",
              "3   81                                                     \n",
              "4  976                                                     \n",
              "5  393                                                     \n",
              "6 1245                                                     \n",
              "  X.content.drive.MyDrive.RNAseq.bamfiles.HIP_SC10_sorted.bam\n",
              "1  184                                                       \n",
              "2    6                                                       \n",
              "3  113                                                       \n",
              "4 1252                                                       \n",
              "5  438                                                       \n",
              "6 1194                                                       \n",
              "  X.content.drive.MyDrive.RNAseq.bamfiles.HIP_SC30_sorted.bam\n",
              "1  229                                                       \n",
              "2    4                                                       \n",
              "3  108                                                       \n",
              "4 1076                                                       \n",
              "5  470                                                       \n",
              "6 1384                                                       \n",
              "  X.content.drive.MyDrive.RNAseq.bamfiles.HIP_SV_sorted.bam\n",
              "1  230                                                     \n",
              "2    6                                                     \n",
              "3  102                                                     \n",
              "4 1167                                                     \n",
              "5  510                                                     \n",
              "6 1392                                                     \n",
              "  X.content.drive.MyDrive.RNAseq.bamfiles.NAc_PC10_sorted.bam\n",
              "1  173                                                       \n",
              "2    8                                                       \n",
              "3  129                                                       \n",
              "4 1207                                                       \n",
              "5  325                                                       \n",
              "6 1185                                                       \n",
              "  X.content.drive.MyDrive.RNAseq.bamfiles.NAc_PC30_sorted.bam\n",
              "1   75                                                       \n",
              "2    2                                                       \n",
              "3  137                                                       \n",
              "4  950                                                       \n",
              "5  319                                                       \n",
              "6 1058                                                       \n",
              "  X.content.drive.MyDrive.RNAseq.bamfiles.NAc_PV_sorted.bam\n",
              "1   94                                                     \n",
              "2    8                                                     \n",
              "3  129                                                     \n",
              "4 1026                                                     \n",
              "5  265                                                     \n",
              "6 1243                                                     \n",
              "  X.content.drive.MyDrive.RNAseq.bamfiles.NAc_SC10_sorted.bam\n",
              "1  130                                                       \n",
              "2    2                                                       \n",
              "3  184                                                       \n",
              "4 1415                                                       \n",
              "5  306                                                       \n",
              "6 1448                                                       \n",
              "  X.content.drive.MyDrive.RNAseq.bamfiles.NAc_SC30_sorted.bam\n",
              "1  147                                                       \n",
              "2    0                                                       \n",
              "3  159                                                       \n",
              "4 1062                                                       \n",
              "5  309                                                       \n",
              "6 1069                                                       \n",
              "  X.content.drive.MyDrive.RNAseq.bamfiles.NAc_SV_sorted.bam\n",
              "1   88                                                     \n",
              "2   16                                                     \n",
              "3  142                                                     \n",
              "4  986                                                     \n",
              "5  282                                                     \n",
              "6 1320                                                     \n",
              "  X.content.drive.MyDrive.RNAseq.bamfiles.PFC_PC10_sorted.bam\n",
              "1  184                                                       \n",
              "2    0                                                       \n",
              "3  176                                                       \n",
              "4 1129                                                       \n",
              "5  483                                                       \n",
              "6 1390                                                       \n",
              "  X.content.drive.MyDrive.RNAseq.bamfiles.PFC_PC30_sorted.bam\n",
              "1  121                                                       \n",
              "2    6                                                       \n",
              "3  119                                                       \n",
              "4  923                                                       \n",
              "5  334                                                       \n",
              "6 1068                                                       \n",
              "  X.content.drive.MyDrive.RNAseq.bamfiles.PFC_PV_sorted.bam\n",
              "1  184                                                     \n",
              "2    0                                                     \n",
              "3  115                                                     \n",
              "4 1306                                                     \n",
              "5  516                                                     \n",
              "6 1541                                                     \n",
              "  X.content.drive.MyDrive.RNAseq.bamfiles.PFC_SC10_sorted.bam\n",
              "1  172                                                       \n",
              "2    6                                                       \n",
              "3  117                                                       \n",
              "4 1344                                                       \n",
              "5  586                                                       \n",
              "6 1609                                                       \n",
              "  X.content.drive.MyDrive.RNAseq.bamfiles.PFC_SC30_sorted.bam\n",
              "1  225                                                       \n",
              "2    2                                                       \n",
              "3  163                                                       \n",
              "4 1183                                                       \n",
              "5  490                                                       \n",
              "6 1446                                                       \n",
              "  X.content.drive.MyDrive.RNAseq.bamfiles.PFC_SV_sorted.bam\n",
              "1  194                                                     \n",
              "2    0                                                     \n",
              "3  145                                                     \n",
              "4  982                                                     \n",
              "5  489                                                     \n",
              "6 1161                                                     "
            ]
          },
          "metadata": {}
        }
      ]
    },
    {
      "cell_type": "markdown",
      "source": [
        "#データ解析: edgeR"
      ],
      "metadata": {
        "id": "TjJcSx48GqjW"
      }
    },
    {
      "cell_type": "code",
      "source": [
        "# インストールパッケージ\n",
        "# install.packages(\"BiocManager\")\n",
        "# BiocManager::install(\"edgeR\")\n",
        "\n",
        "# ロードパッケージ\n",
        "# library(edgeR)\n",
        "# library(lubridate)"
      ],
      "metadata": {
        "id": "jDNefB0ZGugp"
      },
      "execution_count": null,
      "outputs": []
    },
    {
      "cell_type": "code",
      "source": [
        "# データの再読み込み\n",
        "# ワーキングディレクトリとファイルパス\n",
        "DIR_WORK = \"/content/drive/MyDrive/RNAseq/R\"  #@param [\"/content/drive/MyDrive/RNAseq/R\", \"option1\", \"option2\"] {allow-input: true}\n",
        "file_path <- \"featureCounts_rm2to6.txt\"  #@param [\"featureCounts_rm2to6.txt\", \"/content/drive/MyDrive/RNAseq/R/featureCounts_rm2to6.txt\", \"option2\"] {allow-input: true}\n",
        "new_file_path <- \"featureCounts_rm2to6_edger.txt\"  #@param [\"featureCounts_rm2to6_edger.txt\", \"/content/drive/MyDrive/RNAseq/R/featureCounts_rm2to6_edger\", \"option1\"] {allow-input: true}\n",
        "\n",
        "# ワーキングディレクトリへ移動\n",
        "setwd(DIR_WORK)\n",
        "print(paste(\"現在のワーキングディレクトリ:\", getwd()))\n",
        "\n",
        "# ファイルを読み込む\n",
        "read_data <- read.table(file_path , stringsAsFactors=F, header=T, row.names=1)\n",
        "# str(read_data)\n",
        "# head(read_data)\n",
        "group <- factor(c(\"HIP_PC10\", \"HIP_PC30\", \"HIP_PV\", \"HIP_SC10\", \"HIP_SC30\", \"HIP_SV\", \"NAc_PC10\", \"NAc_PC30\", \"NAc_PV\", \"NAc_SC10\", \"NAc_SC30\", \"NAc_SV\", \"PFC_PC10\", \"PFC_PC30\", \"PFC_PV\", \"PFC_SC10\", \"PFC_SC30\", \"PFC_SV\"))\n",
        "y <- DGEList(counts=read_data,group=group)"
      ],
      "metadata": {
        "id": "RsL3Rcb3F9F3",
        "colab": {
          "base_uri": "https://localhost:8080/"
        },
        "outputId": "04a2e201-b3d2-4a48-8a7a-16080a10865d"
      },
      "execution_count": null,
      "outputs": [
        {
          "output_type": "stream",
          "name": "stdout",
          "text": [
            "[1] \"現在のワーキングディレクトリ: /content/drive/MyDrive/RNAseq/R\"\n"
          ]
        }
      ]
    },
    {
      "cell_type": "code",
      "source": [
        "# 低発現遺伝子のフィルタリング\n",
        "keep <- filterByExpr(y, group=group)\n",
        "y <- y[keep, , keep.lib.sizes=FALSE]\n",
        "y <- calcNormFactors(y)    #TMM正規化\n",
        "# y$samples"
      ],
      "metadata": {
        "id": "3IV9-FDnF9Cx"
      },
      "execution_count": null,
      "outputs": []
    },
    {
      "cell_type": "code",
      "source": [
        "#@title exactTest\n",
        "\n",
        "# 処理開始時刻を記録\n",
        "start_time <- Sys.time()\n",
        "start_time_jst <- with_tz(start_time, tzone = \"Asia/Tokyo\")\n",
        "\n",
        "# 1連なのでBCV (square-rootdispersion)を0.1とする\n",
        "bcv <- 0.1\n",
        "\n",
        "# 結果ファイルの名前を設定\n",
        "output_file <- \"edgeR_result_bcv_0.1.txt\"  #@param [\"edgeR_result_bcv_0.1.txt\", \"/content/drive/MyDrive/RNAseq/R/edgeR_result_bcv_0.1.txt\", \"option2\"] {allow-input: true}\n",
        "\n",
        "# グループペアの組み合わせを取得\n",
        "group_combinations <- combn(levels(group), 2, simplify = FALSE)\n",
        "\n",
        "# 各グループペアに対してexactTestを実行し、結果をデータフレームに連結する\n",
        "# 全結果データフレームの初期化\n",
        "all_results_df <- data.frame()\n",
        "\n",
        "for (i in seq_along(group_combinations)) {\n",
        " pair <- group_combinations[[i]]\n",
        " y_pair <- y[, group %in% pair]\n",
        " et_result <- exactTest(y_pair, dispersion=bcv^2)\n",
        "\n",
        " # topTagsを使用して結果を取得\n",
        " top_result <- topTags(et_result, n=Inf)\n",
        "\n",
        " # 結果をデータフレームに変換\n",
        " pair_results_df <- as.data.frame(top_result$table)\n",
        " pair_results_df$Gene <- rownames(pair_results_df)\n",
        " pair_results_df$Comparison <- paste(pair, collapse = \"-\")\n",
        "\n",
        " # FDR計算\n",
        " pair_results_df$FDR <- p.adjust(pair_results_df$PValue, method = \"BH\")\n",
        "\n",
        " # 全結果データフレームに追加\n",
        " all_results_df <- rbind(all_results_df, pair_results_df)\n",
        "}\n",
        "\n",
        "# 列名を整理（Gene列を前に、Comparison列を後ろに移動）\n",
        "all_results_df <- all_results_df[, c(\"Comparison\", \"Gene\", \"logFC\", \"logCPM\", \"PValue\", \"FDR\")]\n",
        "\n",
        "# ファイルに全結果を書き込み\n",
        "write.table(all_results_df, file=output_file, sep=\"\\t\", quote=FALSE, row.names=FALSE)\n",
        "\n",
        "# 処理終了時刻を記録\n",
        "end_time <- Sys.time()\n",
        "end_time_jst <- with_tz(end_time, tzone = \"Asia/Tokyo\")\n",
        "\n",
        "# 処理にかかった時間を計算\n",
        "processing_time <- end_time - start_time\n",
        "\n",
        "# 処理開始時刻と終了時刻を表示\n",
        "print(paste(\"処理開始時刻（日本時間）:\", start_time_jst))\n",
        "print(paste(\"処理終了時刻（日本時間）:\", end_time_jst))\n",
        "\n",
        "# 処理にかかった時間を表示\n",
        "print(paste(\"処理にかかった時間:\", processing_time, \"minutes\"))\n"
      ],
      "metadata": {
        "colab": {
          "base_uri": "https://localhost:8080/"
        },
        "id": "5avg2oM3F88l",
        "outputId": "be832427-cb9c-4918-e095-b33d055448db"
      },
      "execution_count": null,
      "outputs": [
        {
          "output_type": "stream",
          "name": "stdout",
          "text": [
            "[1] \"処理開始時刻（日本時間）: 2024-03-27 11:34:12.722806\"\n",
            "[1] \"処理終了時刻（日本時間）: 2024-03-27 11:42:27.89077\"\n",
            "[1] \"処理にかかった時間: 8.25279939572016 minutes\"\n"
          ]
        }
      ]
    },
    {
      "cell_type": "code",
      "source": [
        "#@title (exactTest)\n",
        "# # 処理開始時刻を記録\n",
        "# start_time <- Sys.time()\n",
        "# start_time_jst <- with_tz(start_time, tzone = \"Asia/Tokyo\")\n",
        "\n",
        "# # 1連なのでBCV (square-rootdispersion)を0.1とする\n",
        "# bcv <- 0.1\n",
        "\n",
        "# # 全てのグループペアの組み合わせを作成\n",
        "# group_combinations <- combn(levels(group), 2, simplify = FALSE)\n",
        "\n",
        "# # 結果を格納するリスト\n",
        "# results_list <- list()\n",
        "\n",
        "# # 各グループペアに対してexactTestを実行\n",
        "# for (pair in group_combinations) {\n",
        "#  # 対象のグループのみを含むDGEListオブジェクトを作成\n",
        "#  y_pair <- y[, group %in% pair]\n",
        "\n",
        "#  # exactTestの実行\n",
        "#  result <- exactTest(y_pair, dispersion=bcv^2)\n",
        "\n",
        "#  # 結果の保存\n",
        "#  results_list[[paste(pair, collapse = \"-\")]] <- topTags(result)\n",
        "# }\n",
        "\n",
        "# results_list\n",
        "\n",
        "\n",
        "# result <- exactTest(y, dispersion=bcv^2)      #exact test\n",
        "# topTags(result)\n",
        "\n",
        "\n",
        "# # 処理終了時刻を記録\n",
        "# end_time <- Sys.time()\n",
        "# end_time_jst <- with_tz(end_time, tzone = \"Asia/Tokyo\")\n",
        "\n",
        "# # 処理にかかった時間を計算\n",
        "# processing_time <- end_time - start_time\n",
        "\n",
        "# # 処理開始時刻と終了時刻を表示\n",
        "# print(paste(\"処理開始時刻（日本時間）:\", start_time_jst))\n",
        "# print(paste(\"処理終了時刻（日本時間）:\", end_time_jst))\n",
        "\n",
        "# # 処理にかかった時間を表示\n",
        "# print(paste(\"処理にかかった時間:\", processing_time))"
      ],
      "metadata": {
        "cellView": "form",
        "id": "ywSZjF6cF8_k"
      },
      "execution_count": null,
      "outputs": []
    },
    {
      "cell_type": "markdown",
      "source": [
        "#プロット"
      ],
      "metadata": {
        "id": "sp1F272pIMMA"
      }
    },
    {
      "cell_type": "code",
      "source": [
        "#@title  マンハッタンプロット\n",
        "\n",
        "# 処理開始時刻を記録\n",
        "start_time <- Sys.time()\n",
        "start_time_jst <- with_tz(start_time, tzone = \"Asia/Tokyo\")\n",
        "\n",
        "\n",
        "# FDR < 0.05 の遺伝子を赤色でプロット\n",
        "# プロットのパラメータを設定\n",
        "par(mfrow=c(4, 5))  # 4x5のグリッドにプロットを配置\n",
        "# グループペアの組み合わせを取得\n",
        "group_combinations <- combn(levels(group), 2, simplify = FALSE)\n",
        "\n",
        "# 各グループペアに対してMAプロットを作成し、PDFファイルに保存\n",
        "for (i in seq_along(group_combinations)) {\n",
        " pair <- group_combinations[[i]]\n",
        "\n",
        " # 対象のグループのみを含むDGEListオブジェクトを作成\n",
        " y_pair <- y[, group %in% pair]\n",
        "\n",
        " # exactTestの実行\n",
        " et_result <- exactTest(y_pair, dispersion=bcv^2)\n",
        "\n",
        " # FDR < 0.05 の遺伝子を赤色でプロット\n",
        " is.DEG <- et_result$table$FDR < 0.05\n",
        " DEG.names <- rownames(et_result$table)[is.DEG]\n",
        "\n",
        " # MAプロットのPDFファイル名を設定\n",
        " pdf_filename <- sprintf(\"MA_plot_%s_vs_%s.pdf\", pair[1], pair[2])\n",
        "\n",
        " # PDFファイルを開く\n",
        " pdf(pdf_filename)\n",
        "\n",
        " # MAプロットを描画\n",
        " plotSmear(et_result, de.tags=DEG.names, cex=0.3, main=paste(pair[1], \"vs\", pair[2]))\n",
        "\n",
        " # デバイスを閉じる（PDFファイルを保存）\n",
        " dev.off()\n",
        "}\n",
        "\n",
        "# 処理終了時刻を記録\n",
        "end_time <- Sys.time()\n",
        "end_time_jst <- with_tz(end_time, tzone = \"Asia/Tokyo\")\n",
        "\n",
        "# 処理にかかった時間を計算\n",
        "processing_time <- end_time - start_time\n",
        "\n",
        "# 処理開始時刻と終了時刻を表示\n",
        "print(paste(\"処理開始時刻（日本時間）:\", start_time_jst))\n",
        "print(paste(\"処理終了時刻（日本時間）:\", end_time_jst))\n",
        "\n",
        "# 処理にかかった時間を表示\n",
        "print(paste(\"処理にかかった時間:\", processing_time, \"minutes\"))"
      ],
      "metadata": {
        "colab": {
          "base_uri": "https://localhost:8080/"
        },
        "id": "5AiPGlzLF8zm",
        "outputId": "dd58bb93-14f7-47d0-957b-4836e05df5fa"
      },
      "execution_count": null,
      "outputs": [
        {
          "output_type": "stream",
          "name": "stdout",
          "text": [
            "[1] \"処理開始時刻（日本時間）: 2024-03-23 09:12:22.188708\"\n",
            "[1] \"処理終了時刻（日本時間）: 2024-03-23 09:16:47.706528\"\n",
            "[1] \"処理にかかった時間: 4.42529699802399\"\n"
          ]
        }
      ]
    },
    {
      "cell_type": "code",
      "source": [],
      "metadata": {
        "id": "KJ-ZB3N-F8ww"
      },
      "execution_count": null,
      "outputs": []
    },
    {
      "cell_type": "markdown",
      "source": [
        "#遺伝子リスト"
      ],
      "metadata": {
        "id": "x23HyQEOIW6G"
      }
    },
    {
      "cell_type": "code",
      "source": [
        "# インストールパッケージ\n",
        "# install.packages(\"openxlsx\")\n",
        "\n",
        "# ロードパッケージ\n",
        "# library(readxl)\n",
        "# library(openxlsx)\n",
        "# library(tidyverse)"
      ],
      "metadata": {
        "id": "qRaWex-sN2rs",
        "colab": {
          "base_uri": "https://localhost:8080/"
        },
        "outputId": "cb91789d-88f8-4fcd-c9f5-4303c0c680a5"
      },
      "execution_count": null,
      "outputs": [
        {
          "output_type": "stream",
          "name": "stderr",
          "text": [
            "Installing package into ‘/usr/local/lib/R/site-library’\n",
            "(as ‘lib’ is unspecified)\n",
            "\n",
            "── \u001b[1mAttaching core tidyverse packages\u001b[22m ──────────────────────── tidyverse 2.0.0 ──\n",
            "\u001b[32m✔\u001b[39m \u001b[34mdplyr  \u001b[39m 1.1.4     \u001b[32m✔\u001b[39m \u001b[34mreadr  \u001b[39m 2.1.5\n",
            "\u001b[32m✔\u001b[39m \u001b[34mforcats\u001b[39m 1.0.0     \u001b[32m✔\u001b[39m \u001b[34mtibble \u001b[39m 3.2.1\n",
            "\u001b[32m✔\u001b[39m \u001b[34mggplot2\u001b[39m 3.4.4     \u001b[32m✔\u001b[39m \u001b[34mtidyr  \u001b[39m 1.3.1\n",
            "\u001b[32m✔\u001b[39m \u001b[34mpurrr  \u001b[39m 1.0.2     \n",
            "── \u001b[1mConflicts\u001b[22m ────────────────────────────────────────── tidyverse_conflicts() ──\n",
            "\u001b[31m✖\u001b[39m \u001b[34mtidyr\u001b[39m::\u001b[32mextract()\u001b[39m   masks \u001b[34mmagrittr\u001b[39m::extract()\n",
            "\u001b[31m✖\u001b[39m \u001b[34mdplyr\u001b[39m::\u001b[32mfilter()\u001b[39m    masks \u001b[34mstats\u001b[39m::filter()\n",
            "\u001b[31m✖\u001b[39m \u001b[34mdplyr\u001b[39m::\u001b[32mlag()\u001b[39m       masks \u001b[34mstats\u001b[39m::lag()\n",
            "\u001b[31m✖\u001b[39m \u001b[34mpurrr\u001b[39m::\u001b[32mset_names()\u001b[39m masks \u001b[34mmagrittr\u001b[39m::set_names()\n",
            "\u001b[36mℹ\u001b[39m Use the conflicted package (\u001b[3m\u001b[34m<http://conflicted.r-lib.org/>\u001b[39m\u001b[23m) to force all conflicts to become errors\n"
          ]
        }
      ]
    },
    {
      "cell_type": "code",
      "source": [
        "# データの再読み込み\n",
        "# 処理開始時刻を記録\n",
        "start_time <- Sys.time()\n",
        "start_time_jst <- with_tz(start_time, tzone = \"Asia/Tokyo\")\n",
        "\n",
        "# ワーキングディレクトリとファイルパス\n",
        "DIR_WORK = \"/content/drive/MyDrive/RNAseq/R\"  #@param [\"/content/drive/MyDrive/RNAseq/R\", \"option1\", \"option2\"] {allow-input: true}\n",
        "FILE <- \"edgeR_result_bcv_0.1.txt\"  #@param [\"edgeR_result_bcv_0.1.txt\", \"/content/drive/MyDrive/RNAseq/R/edgeR_result_bcv_0.1.txt\", \"option2\"] {allow-input: true}\n",
        "\n",
        "# ワーキングディレクトリへ移動\n",
        "setwd(DIR_WORK)\n",
        "print(paste(\"現在のワーキングディレクトリ:\", getwd()))\n",
        "# list.files()\n",
        "\n",
        "read_data <- read.table(FILE, stringsAsFactors=F, header=T) %>%\n",
        "        mutate(Regulation = ifelse(logFC < 0, \"down\", \"up\"))\n",
        "\n",
        "# read_data %>% colnames()\n",
        "# read_data %>% distinct(Comparison)\n",
        "\n",
        "# 処理終了時刻を記録\n",
        "end_time <- Sys.time()\n",
        "end_time_jst <- with_tz(end_time, tzone = \"Asia/Tokyo\")\n",
        "\n",
        "# 処理にかかった時間を計算\n",
        "processing_time <- end_time - start_time\n",
        "\n",
        "# 処理開始時刻と終了時刻を表示\n",
        "print(paste(\"処理開始時刻（日本時間）:\", start_time_jst))\n",
        "print(paste(\"処理終了時刻（日本時間）:\", end_time_jst))\n",
        "\n",
        "# 処理にかかった時間を表示\n",
        "print(paste(\"処理にかかった時間:\", processing_time, \"seconds\"))"
      ],
      "metadata": {
        "colab": {
          "base_uri": "https://localhost:8080/"
        },
        "id": "tLWVw7QCOBUG",
        "outputId": "54868108-c6d2-4291-af0b-1f42577f93f1"
      },
      "execution_count": null,
      "outputs": [
        {
          "output_type": "stream",
          "name": "stdout",
          "text": [
            "[1] \"現在のワーキングディレクトリ: /content/drive/MyDrive/RNAseq/R\"\n",
            "[1] \"処理開始時刻（日本時間）: 2024-03-23 09:18:20.964164\"\n",
            "[1] \"処理終了時刻（日本時間）: 2024-03-23 09:19:02.91261\"\n",
            "[1] \"処理にかかった時間: 41.9484462738037\"\n"
          ]
        }
      ]
    },
    {
      "cell_type": "code",
      "source": [
        "## サンプルIDのリスト\n",
        "sample_ids <- c(\"PC10\", \"PC30\", \"PV\", \"SC10\", \"SC30\", \"SV\")\n",
        "tissues <- c(\"PFC\", \"HIP\", \"NAc\")\n",
        "\n",
        "## 遺伝子リストの書き出し\n",
        "extract_gene_list(read_data, tissues, sample_ids)"
      ],
      "metadata": {
        "id": "fMLPRIrxWA4H"
      },
      "execution_count": null,
      "outputs": []
    },
    {
      "cell_type": "code",
      "source": [],
      "metadata": {
        "id": "kiN6rJnaWvda"
      },
      "execution_count": null,
      "outputs": []
    },
    {
      "cell_type": "code",
      "source": [],
      "metadata": {
        "id": "gpaGXVOLWvYZ"
      },
      "execution_count": null,
      "outputs": []
    },
    {
      "cell_type": "code",
      "source": [],
      "metadata": {
        "id": "wkknPhR1WvRK"
      },
      "execution_count": null,
      "outputs": []
    },
    {
      "cell_type": "markdown",
      "source": [
        "#その他"
      ],
      "metadata": {
        "id": "EjpmgbUuWuQj"
      }
    },
    {
      "cell_type": "code",
      "source": [
        "#@title  (遺伝子リスト作成)\n",
        "# PFCの遺伝子リスト\n",
        "data_PFC <- read_data %>%\n",
        "        filter(Comparison == \"PFC_PC10-PFC_PC30\" |\n",
        "                       Comparison == \"PFC_PC10-PFC_PV\"|\n",
        "                       Comparison == \"PFC_PC10-PFC_SC10\"|\n",
        "                       Comparison == \"PFC_PC10-PFC_SC30\"|\n",
        "                       Comparison == \"PFC_PC10-PFC_SV\"|\n",
        "                       Comparison == \"PFC_PC30-PFC_PV\"|\n",
        "                       Comparison == \"PFC_PC30-PFC_SC10\"|\n",
        "                       Comparison == \"PFC_PC30-PFC_SC30\"|\n",
        "                       Comparison == \"PFC_PC30-PFC_SV\"|\n",
        "                       Comparison == \"PFC_PV-PFC_SC10\"|\n",
        "                       Comparison == \"PFC_PV-PFC_SC30\"|\n",
        "                       Comparison == \"PFC_PV-PFC_SV\"|\n",
        "                       Comparison == \"PFC_SC10-PFC_SC30\"|\n",
        "                       Comparison == \"PFC_SC10-PFC_SV\"|\n",
        "                       Comparison == \"PFC_SC30-PFC_SV\")\n",
        "\n",
        "\n",
        "# HIPの遺伝子リスト\n",
        "data_HIP <- read_data %>%\n",
        "        filter(Comparison == \"HIP_PC10-HIP_PC30\" |\n",
        "                       Comparison == \"HIP_PC10-HIP_PV\"|\n",
        "                       Comparison == \"HIP_PC10-HIP_SC10\"|\n",
        "                       Comparison == \"HIP_PC10-HIP_SC30\"|\n",
        "                       Comparison == \"HIP_PC10-HIP_SV\"|\n",
        "                       Comparison == \"HIP_PC30-HIP_PV\"|\n",
        "                       Comparison == \"HIP_PC30-HIP_SC10\"|\n",
        "                       Comparison == \"HIP_PC30-HIP_SC30\"|\n",
        "                       Comparison == \"HIP_PC30-HIP_SV\"|\n",
        "                       Comparison == \"HIP_PV-HIP_SC10\"|\n",
        "                       Comparison == \"HIP_PV-HIP_SC30\"|\n",
        "                       Comparison == \"HIP_PV-HIP_SV\"|\n",
        "                       Comparison == \"HIP_SC10-HIP_SC30\"|\n",
        "                       Comparison == \"HIP_SC10-HIP_SV\"|\n",
        "                       Comparison == \"HIP_SC30-HIP_SV\")\n",
        "\n",
        "\n",
        "# NAcの遺伝子リスト\n",
        "data_NAc <- read_data %>%\n",
        "        filter(Comparison == \"NAc_PC10-NAc_PC30\" |\n",
        "                       Comparison == \"NAc_PC10-NAc_PV\"|\n",
        "                       Comparison == \"NAc_PC10-NAc_SC10\"|\n",
        "                       Comparison == \"NAc_PC10-NAc_SC30\"|\n",
        "                       Comparison == \"NAc_PC10-NAc_SV\"|\n",
        "                       Comparison == \"NAc_PC30-NAc_PV\"|\n",
        "                       Comparison == \"NAc_PC30-NAc_SC10\"|\n",
        "                       Comparison == \"NAc_PC30-NAc_SC30\"|\n",
        "                       Comparison == \"NAc_PC30-NAc_SV\"|\n",
        "                       Comparison == \"NAc_PV-NAc_SC10\"|\n",
        "                       Comparison == \"NAc_PV-NAc_SC30\"|\n",
        "                       Comparison == \"NAc_PV-NAc_SV\"|\n",
        "                       Comparison == \"NAc_SC10-NAc_SC30\"|\n",
        "                       Comparison == \"NAc_SC10-NAc_SV\"|\n",
        "                       Comparison == \"NAc_SC30-NAc_SV\")\n",
        "\n",
        "\n",
        "# PFCの遺伝子リスト\n",
        "data_PFC_p <- data_PFC %>% filter(PValue < 0.05)\n",
        "data_PFC_fdr <- data_PFC %>% filter(FDR < 0.05)\n",
        "\n",
        "# data_PFC_fdr %>% distinct(Comparison)\n",
        "data_PFC_fdr_PV_SV <- data_PFC_fdr %>% filter(Comparison == \"PFC_PV-PFC_SV\")\n",
        "data_PFC_fdr_PV_SV_up <- data_PFC_fdr_PV_SV %>% filter(Regulation == \"up\")\n",
        "data_PFC_fdr_PV_SV_down <- data_PFC_fdr_PV_SV %>% filter(Regulation == \"down\")\n",
        "\n",
        "data_PFC_fdr_PC10_PV <- data_PFC_fdr %>% filter(Comparison == \"PFC_PC10-PFC_PV\")\n",
        "data_PFC_fdr_PC10_PV_up <- data_PFC_fdr_PC10_PV %>% filter(Regulation == \"up\")\n",
        "data_PFC_fdr_PC10_PV_down <- data_PFC_fdr_PC10_PV %>% filter(Regulation == \"down\")\n",
        "\n",
        "data_PFC_fdr_PC30_PV <- data_PFC_fdr %>% filter(Comparison == \"PFC_PC30-PFC_PV\")\n",
        "data_PFC_fdr_PC30_PV_up <- data_PFC_fdr_PC30_PV %>% filter(Regulation == \"up\")\n",
        "data_PFC_fdr_PC30_PV_down <- data_PFC_fdr_PC30_PV %>% filter(Regulation == \"down\")\n",
        "\n",
        "\n",
        "# NAcの遺伝子リスト\n",
        "data_NAc_p <- data_NAc %>% filter(PValue < 0.05)\n",
        "data_NAc_fdr <- data_NAc %>% filter(FDR < 0.05)\n",
        "\n",
        "# data_NAc_fdr %>% distinct(Comparison)\n",
        "data_NAc_fdr_PV_SV <- data_NAc_fdr %>% filter(Comparison == \"NAc_PV-NAc_SV\")\n",
        "data_NAc_fdr_PV_SV_up <- data_NAc_fdr_PV_SV %>% filter(Regulation == \"up\")\n",
        "data_NAc_fdr_PV_SV_down <- data_NAc_fdr_PV_SV %>% filter(Regulation == \"down\")\n",
        "\n",
        "data_NAc_fdr_PC10_PV <- data_NAc_fdr %>% filter(Comparison == \"NAc_PC10-NAc_PV\")\n",
        "data_NAc_fdr_PC10_PV_up <- data_NAc_fdr_PC10_PV %>% filter(Regulation == \"up\")\n",
        "data_NAc_fdr_PC10_PV_down <- data_NAc_fdr_PC10_PV %>% filter(Regulation == \"down\")\n",
        "\n",
        "data_NAc_fdr_PC30_PV <- data_NAc_fdr %>% filter(Comparison == \"NAc_PC30-NAc_PV\")\n",
        "data_NAc_fdr_PC30_PV_up <- data_NAc_fdr_PC30_PV %>% filter(Regulation == \"up\")\n",
        "data_NAc_fdr_PC30_PV_down <- data_NAc_fdr_PC30_PV %>% filter(Regulation == \"down\")\n",
        "\n",
        "\n",
        "# HIPの遺伝子リスト\n",
        "data_HIP_p <- data_HIP %>% filter(PValue < 0.05)\n",
        "data_HIP_fdr <- data_HIP %>% filter(FDR < 0.05)\n",
        "\n",
        "# data_HIP_fdr %>% distinct(Comparison)\n",
        "data_HIP_fdr_PV_SV <- data_HIP_fdr %>% filter(Comparison == \"HIP_PV-HIP_SV\")\n",
        "data_HIP_fdr_PV_SV_up <- data_HIP_fdr_PV_SV %>% filter(Regulation == \"up\")\n",
        "data_HIP_fdr_PV_SV_down <- data_HIP_fdr_PV_SV %>% filter(Regulation == \"down\")\n",
        "\n",
        "data_HIP_fdr_PC10_PV <- data_HIP_fdr %>% filter(Comparison == \"HIP_PC10-HIP_PV\")\n",
        "data_HIP_fdr_PC10_PV_up <- data_HIP_fdr_PC10_PV %>% filter(Regulation == \"up\")\n",
        "data_HIP_fdr_PC10_PV_down <- data_HIP_fdr_PC10_PV %>% filter(Regulation == \"down\")\n",
        "\n",
        "data_HIP_fdr_PC30_PV <- data_HIP_fdr %>% filter(Comparison == \"HIP_PC30-HIP_PV\")\n",
        "data_HIP_fdr_PC30_PV_up <- data_HIP_fdr_PC30_PV %>% filter(Regulation == \"up\")\n",
        "data_HIP_fdr_PC30_PV_down <- data_HIP_fdr_PC30_PV %>% filter(Regulation == \"down\")"
      ],
      "metadata": {
        "id": "MC2PNKbJF8uD",
        "cellView": "form"
      },
      "execution_count": null,
      "outputs": []
    },
    {
      "cell_type": "code",
      "source": [
        "#@title  (遺伝子リスト書き出し)\n",
        "# ファイルパス\n",
        "OUT_FILE_1 <- \"PFC_fdr.xlsx\"  #@param [\"PFC_fdr.xlsx\", \"/content/drive/MyDrive/RNAseq/R/PFC_fdr.xlsx\", \"option2\"] {allow-input: true}\n",
        "OUT_FILE_2 <- \"NAc_fdr.xlsx\"  #@param [\"NAc_fdr.xlsx\", \"/content/drive/MyDrive/RNAseq/R/NAc_fdr.xlsx\", \"option2\"] {allow-input: true}\n",
        "OUT_FILE_3 <- \"HIP_fdr.xlsx\"  #@param [\"HIP_fdr.xlsx\", \"/content/drive/MyDrive/RNAseq/R/HIP_fdr.xlsx\", \"option2\"] {allow-input: true}\n",
        "\n",
        "# PFCの遺伝子リスト\n",
        "out_list <- list(\"PV_SV\" = data_PFC_fdr_PV_SV\n",
        "            , \"PV_SV_up\" = data_PFC_fdr_PV_SV_up\n",
        "            , \"PV_SV_down\" = data_PFC_fdr_PV_SV_down\n",
        "            , \"PC10_PV\" = data_PFC_fdr_PC10_PV\n",
        "            , \"PC10_PV_up\" = data_PFC_fdr_PC10_PV_up\n",
        "            , \"PC10_PV_down\" = data_PFC_fdr_PC10_PV_down\n",
        "            , \"PC30_PV\" = data_PFC_fdr_PC30_PV\n",
        "            , \"PC30_PV_up\" = data_PFC_fdr_PC30_PV_up\n",
        "            , \"PC30_PV_down\" = data_PFC_fdr_PC30_PV_down\n",
        ")\n",
        "write.xlsx(out_list, OUT_FILE_1, rowNames = F)\n",
        "\n",
        "# NAcの遺伝子リスト\n",
        "out_list <- list(\"PV_SV\" = data_NAc_fdr_PV_SV\n",
        "                 , \"PV_SV_up\" = data_NAc_fdr_PV_SV_up\n",
        "                 , \"PV_SV_down\" = data_NAc_fdr_PV_SV_down\n",
        "                 , \"PC10_PV\" = data_NAc_fdr_PC10_PV\n",
        "                 , \"PC10_PV_up\" = data_NAc_fdr_PC10_PV_up\n",
        "                 , \"PC10_PV_down\" = data_NAc_fdr_PC10_PV_down\n",
        "                 , \"PC30_PV\" = data_NAc_fdr_PC30_PV\n",
        "                 , \"PC30_PV_up\" = data_NAc_fdr_PC30_PV_up\n",
        "                 , \"PC30_PV_down\" = data_NAc_fdr_PC30_PV_down\n",
        ")\n",
        "write.xlsx(out_list, OUT_FILE_2, rowNames = F)\n",
        "\n",
        "# HIPの遺伝子リスト\n",
        "out_list <- list(\"PV_SV\" = data_HIP_fdr_PV_SV\n",
        "                 , \"PV_SV_up\" = data_HIP_fdr_PV_SV_up\n",
        "                 , \"PV_SV_down\" = data_HIP_fdr_PV_SV_down\n",
        "                 , \"PC10_PV\" = data_HIP_fdr_PC10_PV\n",
        "                 , \"PC10_PV_up\" = data_HIP_fdr_PC10_PV_up\n",
        "                 , \"PC10_PV_down\" = data_HIP_fdr_PC10_PV_down\n",
        "                 , \"PC30_PV\" = data_HIP_fdr_PC30_PV\n",
        "                 , \"PC30_PV_up\" = data_HIP_fdr_PC30_PV_up\n",
        "                 , \"PC30_PV_down\" = data_HIP_fdr_PC30_PV_down\n",
        ")\n",
        "write.xlsx(out_list, OUT_FILE_3, rowNames = F)"
      ],
      "metadata": {
        "id": "lP5zoEE1F8rS",
        "cellView": "form"
      },
      "execution_count": null,
      "outputs": []
    },
    {
      "cell_type": "code",
      "source": [],
      "metadata": {
        "id": "vALKD58LF8n3"
      },
      "execution_count": null,
      "outputs": []
    },
    {
      "cell_type": "code",
      "source": [],
      "metadata": {
        "id": "rGaqE0L3F8k1"
      },
      "execution_count": null,
      "outputs": []
    },
    {
      "cell_type": "markdown",
      "source": [
        "#info"
      ],
      "metadata": {
        "id": "SQmNJVoUv6C7"
      }
    },
    {
      "cell_type": "markdown",
      "source": [
        "【R言語】openxlsxを使ったエクセルファイルの入力・出力  \n",
        "https://multivariate-statistics.com/2021/12/07/r-programming-xlsx-files/"
      ],
      "metadata": {
        "id": "k10B5bwxytyp"
      }
    },
    {
      "cell_type": "code",
      "source": [],
      "metadata": {
        "id": "btp9oFdwysNK"
      },
      "execution_count": null,
      "outputs": []
    },
    {
      "cell_type": "code",
      "source": [
        "# ロードパッケージ\n",
        "# library(readxl)\n",
        "# library(openxlsx)\n",
        "# library(tidyverse)"
      ],
      "metadata": {
        "id": "Nnn6ADnZyE6X"
      },
      "execution_count": null,
      "outputs": []
    },
    {
      "cell_type": "code",
      "source": [
        "# データの再読み込み\n",
        "# 処理開始時刻を記録\n",
        "start_time <- Sys.time()\n",
        "start_time_jst <- with_tz(start_time, tzone = \"Asia/Tokyo\")\n",
        "\n",
        "# ワーキングディレクトリとファイルパス\n",
        "DIR_WORK = \"/content/drive/MyDrive/RNAseq/R\"  #@param [\"/content/drive/MyDrive/RNAseq/R\", \"option1\", \"option2\"] {allow-input: true}\n",
        "FILE_1 <- \"PFC_fdr.xlsx\"  #@param [\"PFC_fdr.xlsx\", \"/content/drive/MyDrive/RNAseq/R/PFC_fdr.xlsx\", \"option2\"] {allow-input: true}\n",
        "FILE_2 <- \"NAc_fdr.xlsx\"  #@param [\"NAc_fdr.xlsx\", \"/content/drive/MyDrive/RNAseq/R/NAc_fdr.xlsx\", \"option2\"] {allow-input: true}\n",
        "FILE_3 <- \"HIP_fdr.xlsx\"  #@param [\"HIP_fdr.xlsx\", \"/content/drive/MyDrive/RNAseq/R/HIP_fdr.xlsx\", \"option2\"] {allow-input: true}\n",
        "\n",
        "\n",
        "# ワーキングディレクトリへ移動\n",
        "setwd(DIR_WORK)\n",
        "print(paste(\"現在のワーキングディレクトリ:\", getwd()))\n",
        "# list.files()\n",
        "\n",
        "data_1 <- read.xlsx(FILE_1)\n",
        "data_2 <- read.xlsx(FILE_2)\n",
        "data_3 <- read.xlsx(FILE_3)\n",
        "\n",
        "# read_data %>% colnames()\n",
        "# read_data %>% distinct(Comparison)\n",
        "\n",
        "# 処理終了時刻を記録\n",
        "end_time <- Sys.time()\n",
        "end_time_jst <- with_tz(end_time, tzone = \"Asia/Tokyo\")\n",
        "\n",
        "# 処理にかかった時間を計算\n",
        "processing_time <- end_time - start_time\n",
        "\n",
        "# 処理開始時刻と終了時刻を表示\n",
        "print(paste(\"処理開始時刻（日本時間）:\", start_time_jst))\n",
        "print(paste(\"処理終了時刻（日本時間）:\", end_time_jst))\n",
        "\n",
        "# 処理にかかった時間を表示\n",
        "print(paste(\"処理にかかった時間:\", processing_time))"
      ],
      "metadata": {
        "colab": {
          "base_uri": "https://localhost:8080/"
        },
        "id": "SagYio6mv4qa",
        "outputId": "e7156bc0-9d73-4fd4-bd72-4dee1e871c9c"
      },
      "execution_count": null,
      "outputs": [
        {
          "output_type": "stream",
          "name": "stdout",
          "text": [
            "[1] \"現在のワーキングディレクトリ: /content/drive/MyDrive/RNAseq/R\"\n",
            "[1] \"処理開始時刻（日本時間）: 2024-03-23 09:55:01.528148\"\n",
            "[1] \"処理終了時刻（日本時間）: 2024-03-23 09:55:01.63698\"\n",
            "[1] \"処理にかかった時間: 0.108831882476807\"\n"
          ]
        }
      ]
    },
    {
      "cell_type": "code",
      "source": [
        "head(data_1)\n",
        "head(data_2)\n",
        "head(data_3)"
      ],
      "metadata": {
        "colab": {
          "base_uri": "https://localhost:8080/",
          "height": 825
        },
        "id": "cLhdPQpvxb3q",
        "outputId": "34a9d266-9114-4815-83a2-2bb4ac6e6081"
      },
      "execution_count": null,
      "outputs": [
        {
          "output_type": "display_data",
          "data": {
            "text/html": [
              "<table class=\"dataframe\">\n",
              "<caption>A data.frame: 6 × 7</caption>\n",
              "<thead>\n",
              "\t<tr><th></th><th scope=col>Comparison</th><th scope=col>Gene</th><th scope=col>logFC</th><th scope=col>logCPM</th><th scope=col>PValue</th><th scope=col>FDR</th><th scope=col>Regulation</th></tr>\n",
              "\t<tr><th></th><th scope=col>&lt;chr&gt;</th><th scope=col>&lt;chr&gt;</th><th scope=col>&lt;dbl&gt;</th><th scope=col>&lt;dbl&gt;</th><th scope=col>&lt;dbl&gt;</th><th scope=col>&lt;dbl&gt;</th><th scope=col>&lt;chr&gt;</th></tr>\n",
              "</thead>\n",
              "<tbody>\n",
              "\t<tr><th scope=row>1</th><td>PFC_PV-PFC_SV</td><td>ATP8   </td><td>-3.289671</td><td> 7.67321826</td><td>2.601975e-47</td><td>4.132716e-43</td><td>down</td></tr>\n",
              "\t<tr><th scope=row>2</th><td>PFC_PV-PFC_SV</td><td>Xlr3b  </td><td>-3.128095</td><td> 2.53633242</td><td>5.035083e-21</td><td>3.998611e-17</td><td>down</td></tr>\n",
              "\t<tr><th scope=row>3</th><td>PFC_PV-PFC_SV</td><td>Lcn2   </td><td> 6.098088</td><td> 0.67528603</td><td>2.327209e-17</td><td>1.232102e-13</td><td>up  </td></tr>\n",
              "\t<tr><th scope=row>4</th><td>PFC_PV-PFC_SV</td><td>Gm53253</td><td> 4.943170</td><td> 0.46525391</td><td>1.055719e-13</td><td>4.191997e-10</td><td>up  </td></tr>\n",
              "\t<tr><th scope=row>5</th><td>PFC_PV-PFC_SV</td><td>Gm14296</td><td>-5.426160</td><td> 0.38477841</td><td>8.318485e-12</td><td>2.642450e-08</td><td>down</td></tr>\n",
              "\t<tr><th scope=row>6</th><td>PFC_PV-PFC_SV</td><td>S100a9 </td><td> 8.399507</td><td>-0.05825212</td><td>2.796574e-11</td><td>7.402997e-08</td><td>up  </td></tr>\n",
              "</tbody>\n",
              "</table>\n"
            ],
            "text/markdown": "\nA data.frame: 6 × 7\n\n| <!--/--> | Comparison &lt;chr&gt; | Gene &lt;chr&gt; | logFC &lt;dbl&gt; | logCPM &lt;dbl&gt; | PValue &lt;dbl&gt; | FDR &lt;dbl&gt; | Regulation &lt;chr&gt; |\n|---|---|---|---|---|---|---|---|\n| 1 | PFC_PV-PFC_SV | ATP8    | -3.289671 |  7.67321826 | 2.601975e-47 | 4.132716e-43 | down |\n| 2 | PFC_PV-PFC_SV | Xlr3b   | -3.128095 |  2.53633242 | 5.035083e-21 | 3.998611e-17 | down |\n| 3 | PFC_PV-PFC_SV | Lcn2    |  6.098088 |  0.67528603 | 2.327209e-17 | 1.232102e-13 | up   |\n| 4 | PFC_PV-PFC_SV | Gm53253 |  4.943170 |  0.46525391 | 1.055719e-13 | 4.191997e-10 | up   |\n| 5 | PFC_PV-PFC_SV | Gm14296 | -5.426160 |  0.38477841 | 8.318485e-12 | 2.642450e-08 | down |\n| 6 | PFC_PV-PFC_SV | S100a9  |  8.399507 | -0.05825212 | 2.796574e-11 | 7.402997e-08 | up   |\n\n",
            "text/latex": "A data.frame: 6 × 7\n\\begin{tabular}{r|lllllll}\n  & Comparison & Gene & logFC & logCPM & PValue & FDR & Regulation\\\\\n  & <chr> & <chr> & <dbl> & <dbl> & <dbl> & <dbl> & <chr>\\\\\n\\hline\n\t1 & PFC\\_PV-PFC\\_SV & ATP8    & -3.289671 &  7.67321826 & 2.601975e-47 & 4.132716e-43 & down\\\\\n\t2 & PFC\\_PV-PFC\\_SV & Xlr3b   & -3.128095 &  2.53633242 & 5.035083e-21 & 3.998611e-17 & down\\\\\n\t3 & PFC\\_PV-PFC\\_SV & Lcn2    &  6.098088 &  0.67528603 & 2.327209e-17 & 1.232102e-13 & up  \\\\\n\t4 & PFC\\_PV-PFC\\_SV & Gm53253 &  4.943170 &  0.46525391 & 1.055719e-13 & 4.191997e-10 & up  \\\\\n\t5 & PFC\\_PV-PFC\\_SV & Gm14296 & -5.426160 &  0.38477841 & 8.318485e-12 & 2.642450e-08 & down\\\\\n\t6 & PFC\\_PV-PFC\\_SV & S100a9  &  8.399507 & -0.05825212 & 2.796574e-11 & 7.402997e-08 & up  \\\\\n\\end{tabular}\n",
            "text/plain": [
              "  Comparison    Gene    logFC     logCPM      PValue       FDR         \n",
              "1 PFC_PV-PFC_SV ATP8    -3.289671  7.67321826 2.601975e-47 4.132716e-43\n",
              "2 PFC_PV-PFC_SV Xlr3b   -3.128095  2.53633242 5.035083e-21 3.998611e-17\n",
              "3 PFC_PV-PFC_SV Lcn2     6.098088  0.67528603 2.327209e-17 1.232102e-13\n",
              "4 PFC_PV-PFC_SV Gm53253  4.943170  0.46525391 1.055719e-13 4.191997e-10\n",
              "5 PFC_PV-PFC_SV Gm14296 -5.426160  0.38477841 8.318485e-12 2.642450e-08\n",
              "6 PFC_PV-PFC_SV S100a9   8.399507 -0.05825212 2.796574e-11 7.402997e-08\n",
              "  Regulation\n",
              "1 down      \n",
              "2 down      \n",
              "3 up        \n",
              "4 up        \n",
              "5 down      \n",
              "6 up        "
            ]
          },
          "metadata": {}
        },
        {
          "output_type": "display_data",
          "data": {
            "text/html": [
              "<table class=\"dataframe\">\n",
              "<caption>A data.frame: 6 × 7</caption>\n",
              "<thead>\n",
              "\t<tr><th></th><th scope=col>Comparison</th><th scope=col>Gene</th><th scope=col>logFC</th><th scope=col>logCPM</th><th scope=col>PValue</th><th scope=col>FDR</th><th scope=col>Regulation</th></tr>\n",
              "\t<tr><th></th><th scope=col>&lt;chr&gt;</th><th scope=col>&lt;chr&gt;</th><th scope=col>&lt;dbl&gt;</th><th scope=col>&lt;dbl&gt;</th><th scope=col>&lt;dbl&gt;</th><th scope=col>&lt;dbl&gt;</th><th scope=col>&lt;chr&gt;</th></tr>\n",
              "</thead>\n",
              "<tbody>\n",
              "\t<tr><th scope=row>1</th><td>NAc_PV-NAc_SV</td><td>Srp54b </td><td> 4.963901</td><td>1.6724701</td><td>6.435240e-23</td><td>1.022109e-18</td><td>up  </td></tr>\n",
              "\t<tr><th scope=row>2</th><td>NAc_PV-NAc_SV</td><td>Lcn2   </td><td> 3.848527</td><td>1.4039764</td><td>2.880752e-16</td><td>2.287749e-12</td><td>up  </td></tr>\n",
              "\t<tr><th scope=row>3</th><td>NAc_PV-NAc_SV</td><td>Clca3a1</td><td> 3.034910</td><td>1.6415624</td><td>6.447029e-14</td><td>3.413272e-10</td><td>up  </td></tr>\n",
              "\t<tr><th scope=row>4</th><td>NAc_PV-NAc_SV</td><td>Prg4   </td><td> 1.810852</td><td>3.4306725</td><td>4.514337e-12</td><td>1.792530e-08</td><td>up  </td></tr>\n",
              "\t<tr><th scope=row>5</th><td>NAc_PV-NAc_SV</td><td>Rho    </td><td> 2.742447</td><td>0.9280214</td><td>5.974344e-09</td><td>1.897810e-05</td><td>up  </td></tr>\n",
              "\t<tr><th scope=row>6</th><td>NAc_PV-NAc_SV</td><td>Xlr3b  </td><td>-1.725738</td><td>2.5528497</td><td>8.001195e-09</td><td>2.118050e-05</td><td>down</td></tr>\n",
              "</tbody>\n",
              "</table>\n"
            ],
            "text/markdown": "\nA data.frame: 6 × 7\n\n| <!--/--> | Comparison &lt;chr&gt; | Gene &lt;chr&gt; | logFC &lt;dbl&gt; | logCPM &lt;dbl&gt; | PValue &lt;dbl&gt; | FDR &lt;dbl&gt; | Regulation &lt;chr&gt; |\n|---|---|---|---|---|---|---|---|\n| 1 | NAc_PV-NAc_SV | Srp54b  |  4.963901 | 1.6724701 | 6.435240e-23 | 1.022109e-18 | up   |\n| 2 | NAc_PV-NAc_SV | Lcn2    |  3.848527 | 1.4039764 | 2.880752e-16 | 2.287749e-12 | up   |\n| 3 | NAc_PV-NAc_SV | Clca3a1 |  3.034910 | 1.6415624 | 6.447029e-14 | 3.413272e-10 | up   |\n| 4 | NAc_PV-NAc_SV | Prg4    |  1.810852 | 3.4306725 | 4.514337e-12 | 1.792530e-08 | up   |\n| 5 | NAc_PV-NAc_SV | Rho     |  2.742447 | 0.9280214 | 5.974344e-09 | 1.897810e-05 | up   |\n| 6 | NAc_PV-NAc_SV | Xlr3b   | -1.725738 | 2.5528497 | 8.001195e-09 | 2.118050e-05 | down |\n\n",
            "text/latex": "A data.frame: 6 × 7\n\\begin{tabular}{r|lllllll}\n  & Comparison & Gene & logFC & logCPM & PValue & FDR & Regulation\\\\\n  & <chr> & <chr> & <dbl> & <dbl> & <dbl> & <dbl> & <chr>\\\\\n\\hline\n\t1 & NAc\\_PV-NAc\\_SV & Srp54b  &  4.963901 & 1.6724701 & 6.435240e-23 & 1.022109e-18 & up  \\\\\n\t2 & NAc\\_PV-NAc\\_SV & Lcn2    &  3.848527 & 1.4039764 & 2.880752e-16 & 2.287749e-12 & up  \\\\\n\t3 & NAc\\_PV-NAc\\_SV & Clca3a1 &  3.034910 & 1.6415624 & 6.447029e-14 & 3.413272e-10 & up  \\\\\n\t4 & NAc\\_PV-NAc\\_SV & Prg4    &  1.810852 & 3.4306725 & 4.514337e-12 & 1.792530e-08 & up  \\\\\n\t5 & NAc\\_PV-NAc\\_SV & Rho     &  2.742447 & 0.9280214 & 5.974344e-09 & 1.897810e-05 & up  \\\\\n\t6 & NAc\\_PV-NAc\\_SV & Xlr3b   & -1.725738 & 2.5528497 & 8.001195e-09 & 2.118050e-05 & down\\\\\n\\end{tabular}\n",
            "text/plain": [
              "  Comparison    Gene    logFC     logCPM    PValue       FDR         \n",
              "1 NAc_PV-NAc_SV Srp54b   4.963901 1.6724701 6.435240e-23 1.022109e-18\n",
              "2 NAc_PV-NAc_SV Lcn2     3.848527 1.4039764 2.880752e-16 2.287749e-12\n",
              "3 NAc_PV-NAc_SV Clca3a1  3.034910 1.6415624 6.447029e-14 3.413272e-10\n",
              "4 NAc_PV-NAc_SV Prg4     1.810852 3.4306725 4.514337e-12 1.792530e-08\n",
              "5 NAc_PV-NAc_SV Rho      2.742447 0.9280214 5.974344e-09 1.897810e-05\n",
              "6 NAc_PV-NAc_SV Xlr3b   -1.725738 2.5528497 8.001195e-09 2.118050e-05\n",
              "  Regulation\n",
              "1 up        \n",
              "2 up        \n",
              "3 up        \n",
              "4 up        \n",
              "5 up        \n",
              "6 down      "
            ]
          },
          "metadata": {}
        },
        {
          "output_type": "display_data",
          "data": {
            "text/html": [
              "<table class=\"dataframe\">\n",
              "<caption>A data.frame: 6 × 7</caption>\n",
              "<thead>\n",
              "\t<tr><th></th><th scope=col>Comparison</th><th scope=col>Gene</th><th scope=col>logFC</th><th scope=col>logCPM</th><th scope=col>PValue</th><th scope=col>FDR</th><th scope=col>Regulation</th></tr>\n",
              "\t<tr><th></th><th scope=col>&lt;chr&gt;</th><th scope=col>&lt;chr&gt;</th><th scope=col>&lt;dbl&gt;</th><th scope=col>&lt;dbl&gt;</th><th scope=col>&lt;dbl&gt;</th><th scope=col>&lt;dbl&gt;</th><th scope=col>&lt;chr&gt;</th></tr>\n",
              "</thead>\n",
              "<tbody>\n",
              "\t<tr><th scope=row>1</th><td>HIP_PV-HIP_SV</td><td>Avp   </td><td> 3.759459</td><td>2.3616164</td><td>8.213518e-24</td><td>1.304553e-19</td><td>up  </td></tr>\n",
              "\t<tr><th scope=row>2</th><td>HIP_PV-HIP_SV</td><td>Lcn2  </td><td> 9.764560</td><td>1.3930700</td><td>3.268190e-23</td><td>2.595433e-19</td><td>up  </td></tr>\n",
              "\t<tr><th scope=row>3</th><td>HIP_PV-HIP_SV</td><td>Shox2 </td><td> 8.897719</td><td>0.5755339</td><td>1.690338e-15</td><td>8.949214e-12</td><td>up  </td></tr>\n",
              "\t<tr><th scope=row>4</th><td>HIP_PV-HIP_SV</td><td>Pard6b</td><td>-2.292965</td><td>2.8310554</td><td>3.064983e-15</td><td>1.217028e-11</td><td>down</td></tr>\n",
              "\t<tr><th scope=row>5</th><td>HIP_PV-HIP_SV</td><td>Foxp2 </td><td> 2.918662</td><td>1.8025174</td><td>3.504948e-14</td><td>1.113382e-10</td><td>up  </td></tr>\n",
              "\t<tr><th scope=row>6</th><td>HIP_PV-HIP_SV</td><td>Gm6710</td><td> 2.160596</td><td>2.7682731</td><td>1.839031e-13</td><td>4.868221e-10</td><td>up  </td></tr>\n",
              "</tbody>\n",
              "</table>\n"
            ],
            "text/markdown": "\nA data.frame: 6 × 7\n\n| <!--/--> | Comparison &lt;chr&gt; | Gene &lt;chr&gt; | logFC &lt;dbl&gt; | logCPM &lt;dbl&gt; | PValue &lt;dbl&gt; | FDR &lt;dbl&gt; | Regulation &lt;chr&gt; |\n|---|---|---|---|---|---|---|---|\n| 1 | HIP_PV-HIP_SV | Avp    |  3.759459 | 2.3616164 | 8.213518e-24 | 1.304553e-19 | up   |\n| 2 | HIP_PV-HIP_SV | Lcn2   |  9.764560 | 1.3930700 | 3.268190e-23 | 2.595433e-19 | up   |\n| 3 | HIP_PV-HIP_SV | Shox2  |  8.897719 | 0.5755339 | 1.690338e-15 | 8.949214e-12 | up   |\n| 4 | HIP_PV-HIP_SV | Pard6b | -2.292965 | 2.8310554 | 3.064983e-15 | 1.217028e-11 | down |\n| 5 | HIP_PV-HIP_SV | Foxp2  |  2.918662 | 1.8025174 | 3.504948e-14 | 1.113382e-10 | up   |\n| 6 | HIP_PV-HIP_SV | Gm6710 |  2.160596 | 2.7682731 | 1.839031e-13 | 4.868221e-10 | up   |\n\n",
            "text/latex": "A data.frame: 6 × 7\n\\begin{tabular}{r|lllllll}\n  & Comparison & Gene & logFC & logCPM & PValue & FDR & Regulation\\\\\n  & <chr> & <chr> & <dbl> & <dbl> & <dbl> & <dbl> & <chr>\\\\\n\\hline\n\t1 & HIP\\_PV-HIP\\_SV & Avp    &  3.759459 & 2.3616164 & 8.213518e-24 & 1.304553e-19 & up  \\\\\n\t2 & HIP\\_PV-HIP\\_SV & Lcn2   &  9.764560 & 1.3930700 & 3.268190e-23 & 2.595433e-19 & up  \\\\\n\t3 & HIP\\_PV-HIP\\_SV & Shox2  &  8.897719 & 0.5755339 & 1.690338e-15 & 8.949214e-12 & up  \\\\\n\t4 & HIP\\_PV-HIP\\_SV & Pard6b & -2.292965 & 2.8310554 & 3.064983e-15 & 1.217028e-11 & down\\\\\n\t5 & HIP\\_PV-HIP\\_SV & Foxp2  &  2.918662 & 1.8025174 & 3.504948e-14 & 1.113382e-10 & up  \\\\\n\t6 & HIP\\_PV-HIP\\_SV & Gm6710 &  2.160596 & 2.7682731 & 1.839031e-13 & 4.868221e-10 & up  \\\\\n\\end{tabular}\n",
            "text/plain": [
              "  Comparison    Gene   logFC     logCPM    PValue       FDR          Regulation\n",
              "1 HIP_PV-HIP_SV Avp     3.759459 2.3616164 8.213518e-24 1.304553e-19 up        \n",
              "2 HIP_PV-HIP_SV Lcn2    9.764560 1.3930700 3.268190e-23 2.595433e-19 up        \n",
              "3 HIP_PV-HIP_SV Shox2   8.897719 0.5755339 1.690338e-15 8.949214e-12 up        \n",
              "4 HIP_PV-HIP_SV Pard6b -2.292965 2.8310554 3.064983e-15 1.217028e-11 down      \n",
              "5 HIP_PV-HIP_SV Foxp2   2.918662 1.8025174 3.504948e-14 1.113382e-10 up        \n",
              "6 HIP_PV-HIP_SV Gm6710  2.160596 2.7682731 1.839031e-13 4.868221e-10 up        "
            ]
          },
          "metadata": {}
        }
      ]
    }
  ]
}